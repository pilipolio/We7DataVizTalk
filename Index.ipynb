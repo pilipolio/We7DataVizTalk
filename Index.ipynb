{
 "metadata": {
  "name": "Index"
 },
 "nbformat": 3,
 "nbformat_minor": 0,
 "worksheets": [
  {
   "cells": [
    {
     "cell_type": "markdown",
     "metadata": {},
     "source": [
      "# Handy tools for data analysis and visualisation\n",
      "\n",
      "## A quick overview of the [`IPython Notebook`](http://ipython.org/_static/sloangrant/sloan-grant.html)\n",
      "\n",
      " - `IPython` = interactive shell for python, `IPython Notebook` = in the browser\n",
      "\n",
      " - \"[...] from initial exploration to publication and teaching\"\n",
      "\n",
      " - Reproducible and easy to share analysis\n",
      "\n",
      "## Libraries for scientific plotting\n",
      "\n",
      " - http://matplotlib.org for `Python`\n",
      "   - \"object oriented interface\"\n",
      "   - `+` set of functions familiar to MATLAB users \n",
      "   - several backends/outputs (`pdf/png` but also `wxPython`, `gtk`, `qt4`, ...)\n",
      " - http://docs.ggplot2.org for `R`\n",
      "\n",
      "## Improving interactivity using `Javascript` and `d3.js`\n",
      "\n",
      "\n"
     ]
    }
   ],
   "metadata": {}
  }
 ]
}