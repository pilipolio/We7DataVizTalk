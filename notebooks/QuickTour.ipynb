{
 "metadata": {
  "name": "quick_tour"
 },
 "nbformat": 3,
 "nbformat_minor": 0,
 "worksheets": [
  {
   "cells": [
    {
     "cell_type": "markdown",
     "metadata": {},
     "source": [
      "IPython notebook quick tour\n",
      "---------------------------\n",
      "\n",
      "### Installation\n",
      "\n",
      " - Python >= 2.7\n",
      " - [PIP](https://pypi.python.org/pypi/pip) >= 1"
     ]
    },
    {
     "cell_type": "code",
     "collapsed": false,
     "input": [
      "!apt-cache policy python\n",
      "!apt-cache policy python-pip"
     ],
     "language": "python",
     "metadata": {},
     "outputs": [
      {
       "output_type": "stream",
       "stream": "stdout",
       "text": [
        "python:\r\n",
        "  Installed: 2.7.3-0ubuntu2\r\n",
        "  Candidate: 2.7.3-0ubuntu2\r\n",
        "  Version table:\r\n",
        " *** 2.7.3-0ubuntu2 0\r\n",
        "        500 http://gb.archive.ubuntu.com/ubuntu/ precise/main amd64 Packages\r\n",
        "        100 /var/lib/dpkg/status\r\n"
       ]
      },
      {
       "output_type": "stream",
       "stream": "stdout",
       "text": [
        "python-pip:\r\n",
        "  Installed: 1.0-1build1\r\n",
        "  Candidate: 1.0-1build1\r\n",
        "  Version table:\r\n",
        " *** 1.0-1build1 0\r\n",
        "        500 http://gb.archive.ubuntu.com/ubuntu/ precise/universe amd64 Packages\r\n",
        "        100 /var/lib/dpkg/status\r\n"
       ]
      }
     ],
     "prompt_number": 1
    },
    {
     "cell_type": "markdown",
     "metadata": {},
     "source": [
      " - [IPython](http://ipython.org/install.html) : better to install a more recent from pip or [github](https://github.com/ipython/ipython)"
     ]
    },
    {
     "cell_type": "code",
     "collapsed": false,
     "input": [
      "!apt-cache policy ipython-notebook\n",
      "!pip search ipython | head -3"
     ],
     "language": "python",
     "metadata": {},
     "outputs": [
      {
       "output_type": "stream",
       "stream": "stdout",
       "text": [
        "ipython-notebook:\r\n",
        "  Installed: (none)\r\n",
        "  Candidate: 0.12.1+dfsg-0ubuntu1\r\n",
        "  Version table:\r\n",
        "     0.13.2-1~ubuntu12.04.1 0\r\n",
        "        100 http://gb.archive.ubuntu.com/ubuntu/ precise-backports/universe amd64 Packages\r\n",
        "     0.12.1+dfsg-0ubuntu1 0\r\n",
        "        500 http://gb.archive.ubuntu.com/ubuntu/ precise/universe amd64 Packages\r\n"
       ]
      },
      {
       "output_type": "stream",
       "stream": "stdout",
       "text": [
        "ipython                   - IPython: Productive Interactive Computing\r\n",
        "  INSTALLED: 0.13.2 (latest)\r\n",
        "ipdb                      - IPython-enabled pdb\r\n"
       ]
      }
     ],
     "prompt_number": 2
    },
    {
     "cell_type": "markdown",
     "metadata": {},
     "source": [
      "- Scientific libraries : [Numpy](http://www.numpy.org/), [Scipy](http://www.scipy.org/) and [Matplotlib](http://matplotlib.org/). Not really worth the trouble to install from source or PIP (unless familiar with linear algebra `fortran/c++` libraries). \n",
      "    \n",
      "    Get them all using `sudo apt-get python-matplotlib`."
     ]
    },
    {
     "cell_type": "code",
     "collapsed": false,
     "input": [
      "!apt-cache policy python-numpy python-matplotlib python-scipy \n",
      "!pip search numpy | head -3\n",
      "!pip search scipy | head -3\n",
      "!pip search matplotlib | head -3"
     ],
     "language": "python",
     "metadata": {},
     "outputs": [
      {
       "output_type": "stream",
       "stream": "stdout",
       "text": [
        "python-numpy:\r\n",
        "  Installed: (none)\r\n",
        "  Candidate: 1:1.6.1-6ubuntu1\r\n",
        "  Version table:\r\n",
        "     1:1.6.1-6ubuntu1 0\r\n",
        "        500 http://gb.archive.ubuntu.com/ubuntu/ precise/main amd64 Packages\r\n",
        "python-matplotlib:\r\n",
        "  Installed: (none)\r\n",
        "  Candidate: 1.1.1~rc1+git20120423-0ubuntu1\r\n",
        "  Version table:\r\n",
        "     1.1.1~rc1+git20120423-0ubuntu1 0\r\n",
        "        500 http://gb.archive.ubuntu.com/ubuntu/ precise/universe amd64 Packages\r\n",
        "python-scipy:\r\n",
        "  Installed: (none)\r\n",
        "  Candidate: 0.9.0+dfsg1-1ubuntu2\r\n",
        "  Version table:\r\n",
        "     0.9.0+dfsg1-1ubuntu2 0\r\n",
        "        500 http://gb.archive.ubuntu.com/ubuntu/ precise/universe amd64 Packages\r\n"
       ]
      },
      {
       "output_type": "stream",
       "stream": "stdout",
       "text": [
        "netCDF4                   - python/numpy interface to netCDF  library (versions 3 and 4)\r\n",
        "numpy                     - NumPy: array processing for numbers, strings, records, and objects.\r\n",
        "  INSTALLED: 1.7.1 (latest)\r\n",
        "close failed in file object destructor:\r\n",
        "sys.excepthook is missing\r\n",
        "lost sys.stderr\r\n"
       ]
      },
      {
       "output_type": "stream",
       "stream": "stdout",
       "text": [
        "scipy                     - SciPy: Scientific Library for Python\r\n",
        "  INSTALLED: 0.12.0 (latest)\r\n",
        "scikits-image             - Image processing routines for SciPy\r\n"
       ]
      },
      {
       "output_type": "stream",
       "stream": "stdout",
       "text": [
        "matplotlib                - Python plotting package\r\n",
        "  INSTALLED: 1.2.1 (latest)\r\n",
        "basemap                   - Plot data on map projections with matplotlib\r\n"
       ]
      }
     ],
     "prompt_number": 3
    },
    {
     "cell_type": "markdown",
     "metadata": {},
     "source": [
      " - Machine learing Sklearn, worth getting 0.13 from that alternative debian [repository](http://neuro.debian.net/pkgs/python-sklearn.html) or from pip.\n",
      " - Pandas library for easy data manipulation and storage (from PIP)   "
     ]
    },
    {
     "cell_type": "code",
     "collapsed": false,
     "input": [
      "!apt-cache policy python-sklearn\n",
      "!pip show pandas"
     ],
     "language": "python",
     "metadata": {},
     "outputs": [
      {
       "output_type": "stream",
       "stream": "stdout",
       "text": [
        "python-sklearn:\r\n",
        "  Installed: 0.10.0-1build1\r\n",
        "  Candidate: 0.10.0-1build1\r\n",
        "  Version table:\r\n",
        " *** 0.10.0-1build1 0\r\n",
        "        500 http://gb.archive.ubuntu.com/ubuntu/ precise/universe amd64 Packages\r\n",
        "        100 /var/lib/dpkg/status\r\n"
       ]
      },
      {
       "output_type": "stream",
       "stream": "stdout",
       "text": [
        "---\r\n",
        "Name: pandas\r\n",
        "Version: 0.10.1\r\n",
        "Location: /usr/local/lib/python2.7/dist-packages\r\n",
        "Requires: python-dateutil, pytz, numpy\r\n"
       ]
      }
     ],
     "prompt_number": 19
    },
    {
     "cell_type": "markdown",
     "metadata": {},
     "source": [
      "### Start-up\n",
      "\n",
      "`ipython notebook --pylab=inline`"
     ]
    },
    {
     "cell_type": "markdown",
     "metadata": {},
     "source": [
      "### IPython special functions\n",
      "\n",
      "Magic functions `%%` and calling the shell using `!` :"
     ]
    },
    {
     "cell_type": "code",
     "collapsed": false,
     "input": [
      "%%file new_file.txt\n",
      "Creating a new file\n",
      "within IPython"
     ],
     "language": "python",
     "metadata": {},
     "outputs": [
      {
       "output_type": "stream",
       "stream": "stdout",
       "text": [
        "Overwriting new_file.txt\n"
       ]
      }
     ],
     "prompt_number": 16
    },
    {
     "cell_type": "code",
     "collapsed": false,
     "input": [
      "directory_path = '.'\n",
      "! ls $directory_path"
     ],
     "language": "python",
     "metadata": {},
     "outputs": [
      {
       "output_type": "stream",
       "stream": "stdout",
       "text": [
        "new_file.txt  quick_tour.ipynb\r\n"
       ]
      }
     ],
     "prompt_number": 17
    },
    {
     "cell_type": "code",
     "collapsed": false,
     "input": [
      "# http://matplotlib.org/examples/pylab_examples/contour_demo.html\n",
      "%%load http://matplotlib.org/mpl_examples/pylab_examples/major_minor_demo1.py"
     ],
     "language": "python",
     "metadata": {},
     "outputs": [],
     "prompt_number": 19
    },
    {
     "cell_type": "code",
     "collapsed": false,
     "input": [
      "%%file hello.py\n",
      "hello_string = 'Hello world'\n",
      "print hello_string"
     ],
     "language": "python",
     "metadata": {},
     "outputs": [
      {
       "output_type": "stream",
       "stream": "stdout",
       "text": [
        "Writing hello.py\n"
       ]
      }
     ],
     "prompt_number": 20
    },
    {
     "cell_type": "code",
     "collapsed": false,
     "input": [
      "%run hello.py\n",
      "hello_string"
     ],
     "language": "python",
     "metadata": {},
     "outputs": [
      {
       "output_type": "stream",
       "stream": "stdout",
       "text": [
        "Hello world\n"
       ]
      },
      {
       "output_type": "pyout",
       "prompt_number": 23,
       "text": [
        "'Hello world'"
       ]
      }
     ],
     "prompt_number": 23
    },
    {
     "cell_type": "code",
     "collapsed": false,
     "input": [
      "%history"
     ],
     "language": "python",
     "metadata": {},
     "outputs": []
    },
    {
     "cell_type": "markdown",
     "metadata": {},
     "source": [
      "### Numpy arrays and quick plotting\n",
      "\n",
      "Also `numpy` and `matplotlib.pyplot` contents are imported when using the `--pylab` option, it is a good habit to use the following import conventions : "
     ]
    },
    {
     "cell_type": "code",
     "collapsed": false,
     "input": [
      "#from matplotlib.pyplot import plt\n",
      "import numpy as np\n",
      "a = np.array([[1, 2], [3, 4]])\n",
      "a"
     ],
     "language": "python",
     "metadata": {},
     "outputs": [
      {
       "output_type": "pyout",
       "prompt_number": 5,
       "text": [
        "array([[1, 2],\n",
        "       [3, 4]])"
       ]
      }
     ],
     "prompt_number": 5
    },
    {
     "cell_type": "code",
     "collapsed": false,
     "input": [
      "from matplotlib import pyplot\n",
      "fig = plt.plot(a[0,:], a[1,:])"
     ],
     "language": "python",
     "metadata": {},
     "outputs": [
      {
       "output_type": "display_data",
       "png": "[encoded data removed]"
      }
     ],
     "prompt_number": 6
    },
    {
     "cell_type": "markdown",
     "metadata": {},
     "source": [
      "### Pandas and the data-frame object\n",
      "\n",
      "Hybrid between a `SQL` table and a 'numpy.array'\n",
      "\n",
      " - named columns and rows indexes;\n",
      " - `groupby` and `join` functions\n",
      " - good handling of missing values\n",
      " - originally developed for financial time-series analysis\n",
      " - active developement and well integrated within IPython "
     ]
    },
    {
     "cell_type": "code",
     "collapsed": false,
     "input": [
      "import pandas as pd\n",
      "df = pd.DataFrame(data=a, columns=['a', 'b'])\n",
      "df.ix[df['a']>1,:]"
     ],
     "language": "python",
     "metadata": {},
     "outputs": [
      {
       "html": [
        "<div style=\"max-height:1000px;max-width:1500px;overflow:auto;\">\n",
        "<table border=\"1\" class=\"dataframe\">\n",
        "  <thead>\n",
        "    <tr style=\"text-align: right;\">\n",
        "      <th></th>\n",
        "      <th>a</th>\n",
        "      <th>b</th>\n",
        "    </tr>\n",
        "  </thead>\n",
        "  <tbody>\n",
        "    <tr>\n",
        "      <th>1</th>\n",
        "      <td> 3</td>\n",
        "      <td> 4</td>\n",
        "    </tr>\n",
        "  </tbody>\n",
        "</table>\n",
        "</div>"
       ],
       "output_type": "pyout",
       "prompt_number": 8,
       "text": [
        "   a  b\n",
        "1  3  4"
       ]
      }
     ],
     "prompt_number": 8
    },
    {
     "cell_type": "code",
     "collapsed": false,
     "input": [
      "! wget ftp://ftp.ngdc.noaa.gov/STP/SOLAR_DATA/SUNSPOT_NUMBERS/INTERNATIONAL/monthly/MONTHLY"
     ],
     "language": "python",
     "metadata": {},
     "outputs": [
      {
       "output_type": "stream",
       "stream": "stdout",
       "text": [
        "--2013-05-23 07:44:14--  ftp://ftp.ngdc.noaa.gov/STP/SOLAR_DATA/SUNSPOT_NUMBERS/INTERNATIONAL/monthly/MONTHLY\r\n",
        "           => `MONTHLY'\r\n",
        "Resolving ftp.ngdc.noaa.gov (ftp.ngdc.noaa.gov)... "
       ]
      },
      {
       "output_type": "stream",
       "stream": "stdout",
       "text": [
        "140.172.184.81\r\n",
        "Connecting to ftp.ngdc.noaa.gov (ftp.ngdc.noaa.gov)|140.172.184.81|:21... "
       ]
      },
      {
       "output_type": "stream",
       "stream": "stdout",
       "text": [
        "connected.\r\n",
        "Logging in as anonymous ... "
       ]
      },
      {
       "output_type": "stream",
       "stream": "stdout",
       "text": [
        "Logged in!\r\n",
        "==> SYST ... "
       ]
      },
      {
       "output_type": "stream",
       "stream": "stdout",
       "text": [
        "done.    ==> PWD ... "
       ]
      },
      {
       "output_type": "stream",
       "stream": "stdout",
       "text": [
        "done.\r\n",
        "==> TYPE I ... "
       ]
      },
      {
       "output_type": "stream",
       "stream": "stdout",
       "text": [
        "done.  ==> CWD (1) /STP/SOLAR_DATA/SUNSPOT_NUMBERS/INTERNATIONAL/monthly ... "
       ]
      },
      {
       "output_type": "stream",
       "stream": "stdout",
       "text": [
        "done.\r\n",
        "==> SIZE MONTHLY ... "
       ]
      },
      {
       "output_type": "stream",
       "stream": "stdout",
       "text": [
        "21503\r\n",
        "==> PASV ... "
       ]
      },
      {
       "output_type": "stream",
       "stream": "stdout",
       "text": [
        "done.    ==> RETR MONTHLY ... "
       ]
      },
      {
       "output_type": "stream",
       "stream": "stdout",
       "text": [
        "done.\r\n",
        "Length: 21503 (21K) (unauthoritative)\r\n",
        "\r\n",
        "\r",
        " 0% [                                       ] 0           --.-K/s              "
       ]
      },
      {
       "output_type": "stream",
       "stream": "stdout",
       "text": [
        "\r",
        "100%[======================================>] 21,503      --.-K/s   in 0.07s   \r\n",
        "\r\n"
       ]
      },
      {
       "output_type": "stream",
       "stream": "stdout",
       "text": [
        "2013-05-23 07:44:20 (303 KB/s) - `MONTHLY' saved [21503]\r\n",
        "\r\n"
       ]
      }
     ],
     "prompt_number": 32
    },
    {
     "cell_type": "code",
     "collapsed": false,
     "input": [
      "!head -6 MONTHLY"
     ],
     "language": "python",
     "metadata": {},
     "outputs": [
      {
       "output_type": "stream",
       "stream": "stdout",
       "text": [
        "                          MONTHLY MEAN SUNSPOT NUMBERS                         \r\n",
        "===============================================================================\r\n",
        "Year    Jan   Feb   Mar   Apr   May   Jun   Jul   Aug   Sep   Oct   Nov   Dec  \r\n",
        "-------------------------------------------------------------------------------\r\n",
        "1749    58.0  62.6  70.0  55.7  85.0  83.5  94.8  66.3  75.9  75.5 158.6  85.2\r\n",
        "1750    73.3  75.9  89.2  88.3  90.0 100.0  85.4 103.0  91.2  65.7  63.3  75.4\r\n"
       ]
      }
     ],
     "prompt_number": 34
    },
    {
     "cell_type": "code",
     "collapsed": false,
     "input": [
      "!tail -10 MONTHLY"
     ],
     "language": "python",
     "metadata": {},
     "outputs": [
      {
       "output_type": "stream",
       "stream": "stdout",
       "text": [
        "2010    13.2  18.8  15.4   8.0   8.7  13.6  16.1  19.6  25.2  23.5  21.5  14.4\r\n",
        "2011    18.8  29.6  55.8  54.4  41.6  37.0  43.8  50.6  78.0  88.0  96.7  73.0\r\n",
        "2012    58.3  32.9  64.3  55.2  69.0  64.5  66.5  63.0  61.4  53.3  61.8  40.8\r\n",
        "2013    62.9  38.0  57.9  72.4        \r\n",
        "-------------------------------------------------------------------------------\r\n",
        "No observations were available during February 1824.  The value shown was      \r\n",
        "interpolated from the January and March monthly means of that year.            \r\n",
        " \r\n",
        " \r\n",
        "Note:  Data are preliminary after Jun 2010.\r\n"
       ]
      }
     ],
     "prompt_number": 67
    },
    {
     "cell_type": "code",
     "collapsed": false,
     "input": [
      "pd.read_csv?"
     ],
     "language": "python",
     "metadata": {},
     "outputs": [],
     "prompt_number": 71
    },
    {
     "cell_type": "code",
     "collapsed": false,
     "input": [
      "df = pd.read_csv('MONTHLY', skiprows=[0,1,3], header=0, sep=' ', skipinitialspace=True, index_col='Year', nrows=265)\n",
      "df.ix[:,'Jan':'Dec'].head()"
     ],
     "language": "python",
     "metadata": {},
     "outputs": [
      {
       "html": [
        "<div style=\"max-height:1000px;max-width:1500px;overflow:auto;\">\n",
        "<table border=\"1\" class=\"dataframe\">\n",
        "  <thead>\n",
        "    <tr style=\"text-align: right;\">\n",
        "      <th></th>\n",
        "      <th>Jan</th>\n",
        "      <th>Feb</th>\n",
        "      <th>Mar</th>\n",
        "      <th>Apr</th>\n",
        "      <th>May</th>\n",
        "      <th>Jun</th>\n",
        "      <th>Jul</th>\n",
        "      <th>Aug</th>\n",
        "      <th>Sep</th>\n",
        "      <th>Oct</th>\n",
        "      <th>Nov</th>\n",
        "      <th>Dec</th>\n",
        "    </tr>\n",
        "    <tr>\n",
        "      <th>Year</th>\n",
        "      <th></th>\n",
        "      <th></th>\n",
        "      <th></th>\n",
        "      <th></th>\n",
        "      <th></th>\n",
        "      <th></th>\n",
        "      <th></th>\n",
        "      <th></th>\n",
        "      <th></th>\n",
        "      <th></th>\n",
        "      <th></th>\n",
        "      <th></th>\n",
        "    </tr>\n",
        "  </thead>\n",
        "  <tbody>\n",
        "    <tr>\n",
        "      <th>1749</th>\n",
        "      <td> 58.0</td>\n",
        "      <td> 62.6</td>\n",
        "      <td> 70.0</td>\n",
        "      <td> 55.7</td>\n",
        "      <td> 85.0</td>\n",
        "      <td>  83.5</td>\n",
        "      <td> 94.8</td>\n",
        "      <td>  66.3</td>\n",
        "      <td> 75.9</td>\n",
        "      <td> 75.5</td>\n",
        "      <td> 158.6</td>\n",
        "      <td> 85.2</td>\n",
        "    </tr>\n",
        "    <tr>\n",
        "      <th>1750</th>\n",
        "      <td> 73.3</td>\n",
        "      <td> 75.9</td>\n",
        "      <td> 89.2</td>\n",
        "      <td> 88.3</td>\n",
        "      <td> 90.0</td>\n",
        "      <td> 100.0</td>\n",
        "      <td> 85.4</td>\n",
        "      <td> 103.0</td>\n",
        "      <td> 91.2</td>\n",
        "      <td> 65.7</td>\n",
        "      <td>  63.3</td>\n",
        "      <td> 75.4</td>\n",
        "    </tr>\n",
        "    <tr>\n",
        "      <th>1751</th>\n",
        "      <td> 70.0</td>\n",
        "      <td> 43.5</td>\n",
        "      <td> 45.3</td>\n",
        "      <td> 56.4</td>\n",
        "      <td> 60.7</td>\n",
        "      <td>  50.7</td>\n",
        "      <td> 66.3</td>\n",
        "      <td>  59.8</td>\n",
        "      <td> 23.5</td>\n",
        "      <td> 23.2</td>\n",
        "      <td>  28.5</td>\n",
        "      <td> 44.0</td>\n",
        "    </tr>\n",
        "    <tr>\n",
        "      <th>1752</th>\n",
        "      <td> 35.0</td>\n",
        "      <td> 50.0</td>\n",
        "      <td> 71.0</td>\n",
        "      <td> 59.3</td>\n",
        "      <td> 59.7</td>\n",
        "      <td>  39.6</td>\n",
        "      <td> 78.4</td>\n",
        "      <td>  29.3</td>\n",
        "      <td> 27.1</td>\n",
        "      <td> 46.6</td>\n",
        "      <td>  37.6</td>\n",
        "      <td> 40.0</td>\n",
        "    </tr>\n",
        "    <tr>\n",
        "      <th>1753</th>\n",
        "      <td> 44.0</td>\n",
        "      <td> 32.0</td>\n",
        "      <td> 45.7</td>\n",
        "      <td> 38.0</td>\n",
        "      <td> 36.0</td>\n",
        "      <td>  31.7</td>\n",
        "      <td> 22.0</td>\n",
        "      <td>  39.0</td>\n",
        "      <td> 28.0</td>\n",
        "      <td> 25.0</td>\n",
        "      <td>  20.0</td>\n",
        "      <td>  6.7</td>\n",
        "    </tr>\n",
        "  </tbody>\n",
        "</table>\n",
        "</div>"
       ],
       "output_type": "pyout",
       "prompt_number": 101,
       "text": [
        "       Jan   Feb   Mar   Apr   May    Jun   Jul    Aug   Sep   Oct    Nov   Dec\n",
        "Year                                                                           \n",
        "1749  58.0  62.6  70.0  55.7  85.0   83.5  94.8   66.3  75.9  75.5  158.6  85.2\n",
        "1750  73.3  75.9  89.2  88.3  90.0  100.0  85.4  103.0  91.2  65.7   63.3  75.4\n",
        "1751  70.0  43.5  45.3  56.4  60.7   50.7  66.3   59.8  23.5  23.2   28.5  44.0\n",
        "1752  35.0  50.0  71.0  59.3  59.7   39.6  78.4   29.3  27.1  46.6   37.6  40.0\n",
        "1753  44.0  32.0  45.7  38.0  36.0   31.7  22.0   39.0  28.0  25.0   20.0   6.7"
       ]
      }
     ],
     "prompt_number": 101
    },
    {
     "cell_type": "code",
     "collapsed": false,
     "input": [
      "df.ix[:,'Jan':'Dec'].tail()"
     ],
     "language": "python",
     "metadata": {},
     "outputs": [
      {
       "html": [
        "<div style=\"max-height:1000px;max-width:1500px;overflow:auto;\">\n",
        "<table border=\"1\" class=\"dataframe\">\n",
        "  <thead>\n",
        "    <tr style=\"text-align: right;\">\n",
        "      <th></th>\n",
        "      <th>Jan</th>\n",
        "      <th>Feb</th>\n",
        "      <th>Mar</th>\n",
        "      <th>Apr</th>\n",
        "      <th>May</th>\n",
        "      <th>Jun</th>\n",
        "      <th>Jul</th>\n",
        "      <th>Aug</th>\n",
        "      <th>Sep</th>\n",
        "      <th>Oct</th>\n",
        "      <th>Nov</th>\n",
        "      <th>Dec</th>\n",
        "    </tr>\n",
        "    <tr>\n",
        "      <th>Year</th>\n",
        "      <th></th>\n",
        "      <th></th>\n",
        "      <th></th>\n",
        "      <th></th>\n",
        "      <th></th>\n",
        "      <th></th>\n",
        "      <th></th>\n",
        "      <th></th>\n",
        "      <th></th>\n",
        "      <th></th>\n",
        "      <th></th>\n",
        "      <th></th>\n",
        "    </tr>\n",
        "  </thead>\n",
        "  <tbody>\n",
        "    <tr>\n",
        "      <th>2009</th>\n",
        "      <td>  1.3</td>\n",
        "      <td>  1.4</td>\n",
        "      <td>  0.7</td>\n",
        "      <td>  0.8</td>\n",
        "      <td>  2.9</td>\n",
        "      <td>  2.9</td>\n",
        "      <td>  3.2</td>\n",
        "      <td>  0.0</td>\n",
        "      <td>  4.3</td>\n",
        "      <td>  4.8</td>\n",
        "      <td>  4.1</td>\n",
        "      <td> 10.8</td>\n",
        "    </tr>\n",
        "    <tr>\n",
        "      <th>2010</th>\n",
        "      <td> 13.2</td>\n",
        "      <td> 18.8</td>\n",
        "      <td> 15.4</td>\n",
        "      <td>  8.0</td>\n",
        "      <td>  8.7</td>\n",
        "      <td> 13.6</td>\n",
        "      <td> 16.1</td>\n",
        "      <td> 19.6</td>\n",
        "      <td> 25.2</td>\n",
        "      <td> 23.5</td>\n",
        "      <td> 21.5</td>\n",
        "      <td> 14.4</td>\n",
        "    </tr>\n",
        "    <tr>\n",
        "      <th>2011</th>\n",
        "      <td> 18.8</td>\n",
        "      <td> 29.6</td>\n",
        "      <td> 55.8</td>\n",
        "      <td> 54.4</td>\n",
        "      <td> 41.6</td>\n",
        "      <td> 37.0</td>\n",
        "      <td> 43.8</td>\n",
        "      <td> 50.6</td>\n",
        "      <td> 78.0</td>\n",
        "      <td> 88.0</td>\n",
        "      <td> 96.7</td>\n",
        "      <td> 73.0</td>\n",
        "    </tr>\n",
        "    <tr>\n",
        "      <th>2012</th>\n",
        "      <td> 58.3</td>\n",
        "      <td> 32.9</td>\n",
        "      <td> 64.3</td>\n",
        "      <td> 55.2</td>\n",
        "      <td> 69.0</td>\n",
        "      <td> 64.5</td>\n",
        "      <td> 66.5</td>\n",
        "      <td> 63.0</td>\n",
        "      <td> 61.4</td>\n",
        "      <td> 53.3</td>\n",
        "      <td> 61.8</td>\n",
        "      <td> 40.8</td>\n",
        "    </tr>\n",
        "    <tr>\n",
        "      <th>2013</th>\n",
        "      <td> 62.9</td>\n",
        "      <td> 38.0</td>\n",
        "      <td> 57.9</td>\n",
        "      <td> 72.4</td>\n",
        "      <td>  NaN</td>\n",
        "      <td>  NaN</td>\n",
        "      <td>  NaN</td>\n",
        "      <td>  NaN</td>\n",
        "      <td>  NaN</td>\n",
        "      <td>  NaN</td>\n",
        "      <td>  NaN</td>\n",
        "      <td>  NaN</td>\n",
        "    </tr>\n",
        "  </tbody>\n",
        "</table>\n",
        "</div>"
       ],
       "output_type": "pyout",
       "prompt_number": 102,
       "text": [
        "       Jan   Feb   Mar   Apr   May   Jun   Jul   Aug   Sep   Oct   Nov   Dec\n",
        "Year                                                                        \n",
        "2009   1.3   1.4   0.7   0.8   2.9   2.9   3.2   0.0   4.3   4.8   4.1  10.8\n",
        "2010  13.2  18.8  15.4   8.0   8.7  13.6  16.1  19.6  25.2  23.5  21.5  14.4\n",
        "2011  18.8  29.6  55.8  54.4  41.6  37.0  43.8  50.6  78.0  88.0  96.7  73.0\n",
        "2012  58.3  32.9  64.3  55.2  69.0  64.5  66.5  63.0  61.4  53.3  61.8  40.8\n",
        "2013  62.9  38.0  57.9  72.4   NaN   NaN   NaN   NaN   NaN   NaN   NaN   NaN"
       ]
      }
     ],
     "prompt_number": 102
    },
    {
     "cell_type": "code",
     "collapsed": false,
     "input": [
      "stacked_df = df.stack()\n",
      "stacked_df.head()"
     ],
     "language": "python",
     "metadata": {},
     "outputs": [
      {
       "output_type": "pyout",
       "prompt_number": 106,
       "text": [
        "Year     \n",
        "1749  Jan    58.0\n",
        "      Feb    62.6\n",
        "      Mar    70.0\n",
        "      Apr    55.7\n",
        "      May    85.0\n",
        "dtype: float64"
       ]
      }
     ],
     "prompt_number": 106
    },
    {
     "cell_type": "code",
     "collapsed": false,
     "input": [
      "plt.figure(figsize=(18, 5))\n",
      "stacked_df.plot(color='grey', alpha=.8, lw=.5)\n",
      "pd.rolling_mean(stacked_df, 300).plot(style='-b',lw=2)\n",
      "yearly_mean = stacked_df.groupby(level=0).mean()\n",
      "reindex_yearly_mean = yearly_mean.reindex(stacked_df.index, level=0)\n",
      "reindex_yearly_mean.plot(color='red')"
     ],
     "language": "python",
     "metadata": {},
     "outputs": [
      {
       "output_type": "pyout",
       "prompt_number": 135,
       "text": [
        "<matplotlib.axes.AxesSubplot at 0x7fe0510>"
       ]
      },
      {
       "output_type": "display_data",
       "png": "[encoded data removed]"
      }
     ],
     "prompt_number": 135
    }
   ],
   "metadata": {}
  }
 ]
}