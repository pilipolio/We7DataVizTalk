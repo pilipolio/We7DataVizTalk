{
 "metadata": {
  "name": "d3jsExamples"
 },
 "nbformat": 3,
 "nbformat_minor": 0,
 "worksheets": [
  {
   "cells": [
    {
     "cell_type": "markdown",
     "metadata": {},
     "source": [
      "## Using the Iris data set\n",
      "\n",
      "x=Sepal.Length, y=Petal.Length"
     ]
    },
    {
     "cell_type": "code",
     "collapsed": false,
     "input": [
      "from sklearn.datasets import load_iris\n",
      "iris = load_iris()\n",
      "\n",
      "\n",
      "print iris.target_names\n",
      "print iris.feature_names\n",
      "iris.short_feature_names = ['sepalLength', 'sepalWidth', 'petalLength', 'petalWidth']\n",
      "print iris.short_feature_names\n",
      "print iris.data.shape\n",
      "print iris.target.shape\n"
     ],
     "language": "python",
     "metadata": {},
     "outputs": [
      {
       "output_type": "stream",
       "stream": "stdout",
       "text": [
        "['setosa' 'versicolor' 'virginica']\n",
        "['sepal length (cm)', 'sepal width (cm)', 'petal length (cm)', 'petal width (cm)']\n",
        "['sepalLength', 'sepalWidth', 'petalLength', 'petalWidth']\n",
        "(150, 4)\n",
        "(150,)\n"
       ]
      }
     ],
     "prompt_number": 67
    },
    {
     "cell_type": "markdown",
     "metadata": {},
     "source": [
      "### Creating a list of data points to be passed to `d3.js` as a javascript dictionary"
     ]
    },
    {
     "cell_type": "code",
     "collapsed": false,
     "input": [],
     "language": "python",
     "metadata": {},
     "outputs": [
      {
       "output_type": "pyout",
       "prompt_number": 73,
       "text": [
        "{'petalLength': (1.0, 6.9000000000000004),\n",
        " 'petalWidth': (0.10000000000000001, 2.5),\n",
        " 'sepalLength': (4.2999999999999998, 7.9000000000000004),\n",
        " 'sepalWidth': (2.0, 4.4000000000000004)}"
       ]
      }
     ],
     "prompt_number": 73
    },
    {
     "cell_type": "code",
     "collapsed": false,
     "input": [
      "import numpy as np\n",
      "\n",
      "feature_names_to_ranges = dict(zip(iris.short_feature_names, zip(np.min(iris.data, axis=0), np.max(iris.data, axis=0))))\n",
      "print \"feature_names_to_ranges = {}\\n\".format(feature_names_to_ranges)\n",
      "\n",
      "species_to_colors = dict(zip(iris.target_names, ['red', 'green', 'blue']))\n",
      "print \"species_to_colors = {}\\n\".format(species_to_colors)\n",
      "\n",
      "values_and_targets = [list(data_row) + [iris.target_names[t]] for data_row, t in zip(iris.data, iris.target)]\n",
      "values_and_targets_keys = iris.short_feature_names + ['species']\n",
      "data_points = [dict(zip(*(values_and_targets_keys, row))) for row in values_and_targets]\n",
      "print \"data_points[1] = {0}\\n\".format(data_points[1])"
     ],
     "language": "python",
     "metadata": {},
     "outputs": [
      {
       "output_type": "stream",
       "stream": "stdout",
       "text": [
        "feature_names_to_ranges = {'sepalLength': (4.2999999999999998, 7.9000000000000004), 'petalWidth': (0.10000000000000001, 2.5), 'sepalWidth': (2.0, 4.4000000000000004), 'petalLength': (1.0, 6.9000000000000004)}\n",
        "\n",
        "species_to_colors = {'setosa': 'red', 'versicolor': 'green', 'virginica': 'blue'}\n",
        "\n",
        "data_points[1] = {'sepalLength': 4.9000000000000004, 'petalWidth': 0.20000000000000001, 'sepalWidth': 3.0, 'petalLength': 1.3999999999999999, 'species': 'setosa'}\n",
        "\n"
       ]
      }
     ],
     "prompt_number": 95
    },
    {
     "cell_type": "code",
     "collapsed": false,
     "input": [
      "feature_names_to_ranges = dict((n, [0,10]) for n in iris.short_feature_names)"
     ],
     "language": "python",
     "metadata": {},
     "outputs": [],
     "prompt_number": 113
    },
    {
     "cell_type": "code",
     "collapsed": false,
     "input": [
      "from helpers import HtmlScript\n",
      "import helpers\n",
      "reload(helpers)\n",
      "\n",
      "s = helpers.HtmlScript(div_id=\"iris_biplot\", js_lib=\"http://0.0.0.0:8000/d3.js\")\n",
      "s.update_vars(\n",
      "    width=600, height=400, margin=40,\n",
      "    featureNamesToRanges=feature_names_to_ranges, speciesToColor=species_to_colors,\n",
      "    data=data_points)\n",
      "\n",
      "s.add_css(\"\"\"\n",
      "  .axis path,\n",
      "  .axis line {\n",
      "    fill: none;\n",
      "    stroke: black;\n",
      "    shape-rendering: crispEdges;\n",
      "  }\n",
      "\n",
      "  .axis text {\n",
      "    font-family: sans-serif;\n",
      "    font-size: 11px;\n",
      "  }\n",
      "\"\"\")\n",
      "\n",
      "s.add_js(\"\"\"\n",
      "\tvar svg = d3.select('#iris_biplot')\n",
      "\t\t      .append('svg').attr('width', width).attr('height', height);\n",
      "\n",
      "\tvar scales = {\n",
      "\t\tx : d3.scale.linear()\n",
      "\t\t  .domain(featureNamesToRanges.sepalLength)\n",
      "\t\t  .range([margin, width - 2 * margin]),\n",
      "\t\ty : d3.scale.linear()\n",
      "\t\t  \t.domain(featureNamesToRanges.petalWidth)\n",
      "\t\t\t.range([height - 2 * margin, margin])\n",
      "\t};\n",
      "\n",
      "\tsvg.selectAll('.point').data(data).enter()\n",
      "\t\t.append('svg:circle')\n",
      "\t\t.attr('cx', function(d) { return scales.x(d.sepalLength) })\n",
      "\t\t.attr('cy', function(d) { return scales.y(d.petalWidth) })\n",
      "\t\t.attr('r', 4)\n",
      "        .style(\"fill\", function(d) { return speciesToColor[d.species] })\n",
      "        .style(\"fill-opacity\", .4)\n",
      "\t\t.append(\"svg:title\")\n",
      "\t\t.text(function(d) {return \"x = \" + d.sepalLength + \", y = \" + d.petalWidth + \", \" + d.species });\n",
      "\n",
      "    // http://chimera.labs.oreilly.com/books/1230000000345/ch08.html\n",
      "    var xAxis = d3.svg.axis()\n",
      "                  .scale(scales.x)\n",
      "                  .orient(\"bottom\")\n",
      "                  .ticks(5);\n",
      "    svg.append(\"g\")\n",
      "       .attr(\"class\", \"axis\")\n",
      "       .attr(\"transform\", \"translate(0,\" + (height - 2 * margin) + \")\")\n",
      "       .call(xAxis);\n",
      "\n",
      "    var xAxis = d3.svg.axis()\n",
      "                  .scale(scales.y)\n",
      "                  .orient(\"left\")\n",
      "                  .ticks(5);\n",
      "    svg.append(\"g\")\n",
      "       .attr(\"class\", \"axis\")\n",
      "       .attr(\"transform\", \"translate(\" + margin + \",0)\")\n",
      "       .call(xAxis);\n",
      "\n",
      "    svg.select(\"g\").on(\"click\", SwitchXDimension)\n",
      "    \n",
      "    function SwitchXDimension() {\n",
      "        console.log('switch')\n",
      "        svg.selectAll('circle')\n",
      "\t\t   .transition().ease('linear')\n",
      "\t\t   .attr('cx', function(d) { return scales.x(d.sepalWidth) })\n",
      "\t\t   .duration(2000)\n",
      "    }\n",
      "\"\"\")\n",
      "\n",
      "with open('var.js', 'w') as f:\n",
      "    f.write(s.to_string())\n",
      "s.display()"
     ],
     "language": "python",
     "metadata": {},
     "outputs": [
      {
       "html": [
        "<style>\n",
        "\n",
        "  .axis path,\n",
        "  .axis line {\n",
        "    fill: none;\n",
        "    stroke: black;\n",
        "    shape-rendering: crispEdges;\n",
        "  }\n",
        "\n",
        "  .axis text {\n",
        "    font-family: sans-serif;\n",
        "    font-size: 11px;\n",
        "  }\n",
        "\n",
        "</style>\n",
        "<div id=\"iris_biplot\">\n",
        "\n",
        "</div>"
       ],
       "output_type": "display_data",
       "text": [
        "<IPython.core.display.HTML at 0x2db6ed0>"
       ]
      },
      {
       "javascript": [
        "$.getScript(\"http://0.0.0.0:8000/d3.js\", function () {\n",
        "var width=600;\n",
        "var featureNamesToRanges={\"sepalLength\": [0, 10], \"petalWidth\": [0, 10], \"sepalWidth\": [0, 10], \"petalLength\": [0, 10]};\n",
        "var speciesToColor={\"setosa\": \"red\", \"versicolor\": \"green\", \"virginica\": \"blue\"};\n",
        "var margin=40;\n",
        "var data=[{\"sepalLength\": 5.1, \"petalWidth\": 0.2, \"sepalWidth\": 3.5, \"petalLength\": 1.4, \"species\": \"setosa\"}, {\"sepalLength\": 4.9, \"petalWidth\": 0.2, \"sepalWidth\": 3, \"petalLength\": 1.4, \"species\": \"setosa\"}, {\"sepalLength\": 4.7, \"petalWidth\": 0.2, \"sepalWidth\": 3.2, \"petalLength\": 1.3, \"species\": \"setosa\"}, {\"sepalLength\": 4.6, \"petalWidth\": 0.2, \"sepalWidth\": 3.1, \"petalLength\": 1.5, \"species\": \"setosa\"}, {\"sepalLength\": 5, \"petalWidth\": 0.2, \"sepalWidth\": 3.6, \"petalLength\": 1.4, \"species\": \"setosa\"}, {\"sepalLength\": 5.4, \"petalWidth\": 0.4, \"sepalWidth\": 3.9, \"petalLength\": 1.7, \"species\": \"setosa\"}, {\"sepalLength\": 4.6, \"petalWidth\": 0.3, \"sepalWidth\": 3.4, \"petalLength\": 1.4, \"species\": \"setosa\"}, {\"sepalLength\": 5, \"petalWidth\": 0.2, \"sepalWidth\": 3.4, \"petalLength\": 1.5, \"species\": \"setosa\"}, {\"sepalLength\": 4.4, \"petalWidth\": 0.2, \"sepalWidth\": 2.9, \"petalLength\": 1.4, \"species\": \"setosa\"}, {\"sepalLength\": 4.9, \"petalWidth\": 0.1, \"sepalWidth\": 3.1, \"petalLength\": 1.5, \"species\": \"setosa\"}, {\"sepalLength\": 5.4, \"petalWidth\": 0.2, \"sepalWidth\": 3.7, \"petalLength\": 1.5, \"species\": \"setosa\"}, {\"sepalLength\": 4.8, \"petalWidth\": 0.2, \"sepalWidth\": 3.4, \"petalLength\": 1.6, \"species\": \"setosa\"}, {\"sepalLength\": 4.8, \"petalWidth\": 0.1, \"sepalWidth\": 3, \"petalLength\": 1.4, \"species\": \"setosa\"}, {\"sepalLength\": 4.3, \"petalWidth\": 0.1, \"sepalWidth\": 3, \"petalLength\": 1.1, \"species\": \"setosa\"}, {\"sepalLength\": 5.8, \"petalWidth\": 0.2, \"sepalWidth\": 4, \"petalLength\": 1.2, \"species\": \"setosa\"}, {\"sepalLength\": 5.7, \"petalWidth\": 0.4, \"sepalWidth\": 4.4, \"petalLength\": 1.5, \"species\": \"setosa\"}, {\"sepalLength\": 5.4, \"petalWidth\": 0.4, \"sepalWidth\": 3.9, \"petalLength\": 1.3, \"species\": \"setosa\"}, {\"sepalLength\": 5.1, \"petalWidth\": 0.3, \"sepalWidth\": 3.5, \"petalLength\": 1.4, \"species\": \"setosa\"}, {\"sepalLength\": 5.7, \"petalWidth\": 0.3, \"sepalWidth\": 3.8, \"petalLength\": 1.7, \"species\": \"setosa\"}, {\"sepalLength\": 5.1, \"petalWidth\": 0.3, \"sepalWidth\": 3.8, \"petalLength\": 1.5, \"species\": \"setosa\"}, {\"sepalLength\": 5.4, \"petalWidth\": 0.2, \"sepalWidth\": 3.4, \"petalLength\": 1.7, \"species\": \"setosa\"}, {\"sepalLength\": 5.1, \"petalWidth\": 0.4, \"sepalWidth\": 3.7, \"petalLength\": 1.5, \"species\": \"setosa\"}, {\"sepalLength\": 4.6, \"petalWidth\": 0.2, \"sepalWidth\": 3.6, \"petalLength\": 1, \"species\": \"setosa\"}, {\"sepalLength\": 5.1, \"petalWidth\": 0.5, \"sepalWidth\": 3.3, \"petalLength\": 1.7, \"species\": \"setosa\"}, {\"sepalLength\": 4.8, \"petalWidth\": 0.2, \"sepalWidth\": 3.4, \"petalLength\": 1.9, \"species\": \"setosa\"}, {\"sepalLength\": 5, \"petalWidth\": 0.2, \"sepalWidth\": 3, \"petalLength\": 1.6, \"species\": \"setosa\"}, {\"sepalLength\": 5, \"petalWidth\": 0.4, \"sepalWidth\": 3.4, \"petalLength\": 1.6, \"species\": \"setosa\"}, {\"sepalLength\": 5.2, \"petalWidth\": 0.2, \"sepalWidth\": 3.5, \"petalLength\": 1.5, \"species\": \"setosa\"}, {\"sepalLength\": 5.2, \"petalWidth\": 0.2, \"sepalWidth\": 3.4, \"petalLength\": 1.4, \"species\": \"setosa\"}, {\"sepalLength\": 4.7, \"petalWidth\": 0.2, \"sepalWidth\": 3.2, \"petalLength\": 1.6, \"species\": \"setosa\"}, {\"sepalLength\": 4.8, \"petalWidth\": 0.2, \"sepalWidth\": 3.1, \"petalLength\": 1.6, \"species\": \"setosa\"}, {\"sepalLength\": 5.4, \"petalWidth\": 0.4, \"sepalWidth\": 3.4, \"petalLength\": 1.5, \"species\": \"setosa\"}, {\"sepalLength\": 5.2, \"petalWidth\": 0.1, \"sepalWidth\": 4.1, \"petalLength\": 1.5, \"species\": \"setosa\"}, {\"sepalLength\": 5.5, \"petalWidth\": 0.2, \"sepalWidth\": 4.2, \"petalLength\": 1.4, \"species\": \"setosa\"}, {\"sepalLength\": 4.9, \"petalWidth\": 0.1, \"sepalWidth\": 3.1, \"petalLength\": 1.5, \"species\": \"setosa\"}, {\"sepalLength\": 5, \"petalWidth\": 0.2, \"sepalWidth\": 3.2, \"petalLength\": 1.2, \"species\": \"setosa\"}, {\"sepalLength\": 5.5, \"petalWidth\": 0.2, \"sepalWidth\": 3.5, \"petalLength\": 1.3, \"species\": \"setosa\"}, {\"sepalLength\": 4.9, \"petalWidth\": 0.1, \"sepalWidth\": 3.1, \"petalLength\": 1.5, \"species\": \"setosa\"}, {\"sepalLength\": 4.4, \"petalWidth\": 0.2, \"sepalWidth\": 3, \"petalLength\": 1.3, \"species\": \"setosa\"}, {\"sepalLength\": 5.1, \"petalWidth\": 0.2, \"sepalWidth\": 3.4, \"petalLength\": 1.5, \"species\": \"setosa\"}, {\"sepalLength\": 5, \"petalWidth\": 0.3, \"sepalWidth\": 3.5, \"petalLength\": 1.3, \"species\": \"setosa\"}, {\"sepalLength\": 4.5, \"petalWidth\": 0.3, \"sepalWidth\": 2.3, \"petalLength\": 1.3, \"species\": \"setosa\"}, {\"sepalLength\": 4.4, \"petalWidth\": 0.2, \"sepalWidth\": 3.2, \"petalLength\": 1.3, \"species\": \"setosa\"}, {\"sepalLength\": 5, \"petalWidth\": 0.6, \"sepalWidth\": 3.5, \"petalLength\": 1.6, \"species\": \"setosa\"}, {\"sepalLength\": 5.1, \"petalWidth\": 0.4, \"sepalWidth\": 3.8, \"petalLength\": 1.9, \"species\": \"setosa\"}, {\"sepalLength\": 4.8, \"petalWidth\": 0.3, \"sepalWidth\": 3, \"petalLength\": 1.4, \"species\": \"setosa\"}, {\"sepalLength\": 5.1, \"petalWidth\": 0.2, \"sepalWidth\": 3.8, \"petalLength\": 1.6, \"species\": \"setosa\"}, {\"sepalLength\": 4.6, \"petalWidth\": 0.2, \"sepalWidth\": 3.2, \"petalLength\": 1.4, \"species\": \"setosa\"}, {\"sepalLength\": 5.3, \"petalWidth\": 0.2, \"sepalWidth\": 3.7, \"petalLength\": 1.5, \"species\": \"setosa\"}, {\"sepalLength\": 5, \"petalWidth\": 0.2, \"sepalWidth\": 3.3, \"petalLength\": 1.4, \"species\": \"setosa\"}, {\"sepalLength\": 7, \"petalWidth\": 1.4, \"sepalWidth\": 3.2, \"petalLength\": 4.7, \"species\": \"versicolor\"}, {\"sepalLength\": 6.4, \"petalWidth\": 1.5, \"sepalWidth\": 3.2, \"petalLength\": 4.5, \"species\": \"versicolor\"}, {\"sepalLength\": 6.9, \"petalWidth\": 1.5, \"sepalWidth\": 3.1, \"petalLength\": 4.9, \"species\": \"versicolor\"}, {\"sepalLength\": 5.5, \"petalWidth\": 1.3, \"sepalWidth\": 2.3, \"petalLength\": 4, \"species\": \"versicolor\"}, {\"sepalLength\": 6.5, \"petalWidth\": 1.5, \"sepalWidth\": 2.8, \"petalLength\": 4.6, \"species\": \"versicolor\"}, {\"sepalLength\": 5.7, \"petalWidth\": 1.3, \"sepalWidth\": 2.8, \"petalLength\": 4.5, \"species\": \"versicolor\"}, {\"sepalLength\": 6.3, \"petalWidth\": 1.6, \"sepalWidth\": 3.3, \"petalLength\": 4.7, \"species\": \"versicolor\"}, {\"sepalLength\": 4.9, \"petalWidth\": 1, \"sepalWidth\": 2.4, \"petalLength\": 3.3, \"species\": \"versicolor\"}, {\"sepalLength\": 6.6, \"petalWidth\": 1.3, \"sepalWidth\": 2.9, \"petalLength\": 4.6, \"species\": \"versicolor\"}, {\"sepalLength\": 5.2, \"petalWidth\": 1.4, \"sepalWidth\": 2.7, \"petalLength\": 3.9, \"species\": \"versicolor\"}, {\"sepalLength\": 5, \"petalWidth\": 1, \"sepalWidth\": 2, \"petalLength\": 3.5, \"species\": \"versicolor\"}, {\"sepalLength\": 5.9, \"petalWidth\": 1.5, \"sepalWidth\": 3, \"petalLength\": 4.2, \"species\": \"versicolor\"}, {\"sepalLength\": 6, \"petalWidth\": 1, \"sepalWidth\": 2.2, \"petalLength\": 4, \"species\": \"versicolor\"}, {\"sepalLength\": 6.1, \"petalWidth\": 1.4, \"sepalWidth\": 2.9, \"petalLength\": 4.7, \"species\": \"versicolor\"}, {\"sepalLength\": 5.6, \"petalWidth\": 1.3, \"sepalWidth\": 2.9, \"petalLength\": 3.6, \"species\": \"versicolor\"}, {\"sepalLength\": 6.7, \"petalWidth\": 1.4, \"sepalWidth\": 3.1, \"petalLength\": 4.4, \"species\": \"versicolor\"}, {\"sepalLength\": 5.6, \"petalWidth\": 1.5, \"sepalWidth\": 3, \"petalLength\": 4.5, \"species\": \"versicolor\"}, {\"sepalLength\": 5.8, \"petalWidth\": 1, \"sepalWidth\": 2.7, \"petalLength\": 4.1, \"species\": \"versicolor\"}, {\"sepalLength\": 6.2, \"petalWidth\": 1.5, \"sepalWidth\": 2.2, \"petalLength\": 4.5, \"species\": \"versicolor\"}, {\"sepalLength\": 5.6, \"petalWidth\": 1.1, \"sepalWidth\": 2.5, \"petalLength\": 3.9, \"species\": \"versicolor\"}, {\"sepalLength\": 5.9, \"petalWidth\": 1.8, \"sepalWidth\": 3.2, \"petalLength\": 4.8, \"species\": \"versicolor\"}, {\"sepalLength\": 6.1, \"petalWidth\": 1.3, \"sepalWidth\": 2.8, \"petalLength\": 4, \"species\": \"versicolor\"}, {\"sepalLength\": 6.3, \"petalWidth\": 1.5, \"sepalWidth\": 2.5, \"petalLength\": 4.9, \"species\": \"versicolor\"}, {\"sepalLength\": 6.1, \"petalWidth\": 1.2, \"sepalWidth\": 2.8, \"petalLength\": 4.7, \"species\": \"versicolor\"}, {\"sepalLength\": 6.4, \"petalWidth\": 1.3, \"sepalWidth\": 2.9, \"petalLength\": 4.3, \"species\": \"versicolor\"}, {\"sepalLength\": 6.6, \"petalWidth\": 1.4, \"sepalWidth\": 3, \"petalLength\": 4.4, \"species\": \"versicolor\"}, {\"sepalLength\": 6.8, \"petalWidth\": 1.4, \"sepalWidth\": 2.8, \"petalLength\": 4.8, \"species\": \"versicolor\"}, {\"sepalLength\": 6.7, \"petalWidth\": 1.7, \"sepalWidth\": 3, \"petalLength\": 5, \"species\": \"versicolor\"}, {\"sepalLength\": 6, \"petalWidth\": 1.5, \"sepalWidth\": 2.9, \"petalLength\": 4.5, \"species\": \"versicolor\"}, {\"sepalLength\": 5.7, \"petalWidth\": 1, \"sepalWidth\": 2.6, \"petalLength\": 3.5, \"species\": \"versicolor\"}, {\"sepalLength\": 5.5, \"petalWidth\": 1.1, \"sepalWidth\": 2.4, \"petalLength\": 3.8, \"species\": \"versicolor\"}, {\"sepalLength\": 5.5, \"petalWidth\": 1, \"sepalWidth\": 2.4, \"petalLength\": 3.7, \"species\": \"versicolor\"}, {\"sepalLength\": 5.8, \"petalWidth\": 1.2, \"sepalWidth\": 2.7, \"petalLength\": 3.9, \"species\": \"versicolor\"}, {\"sepalLength\": 6, \"petalWidth\": 1.6, \"sepalWidth\": 2.7, \"petalLength\": 5.1, \"species\": \"versicolor\"}, {\"sepalLength\": 5.4, \"petalWidth\": 1.5, \"sepalWidth\": 3, \"petalLength\": 4.5, \"species\": \"versicolor\"}, {\"sepalLength\": 6, \"petalWidth\": 1.6, \"sepalWidth\": 3.4, \"petalLength\": 4.5, \"species\": \"versicolor\"}, {\"sepalLength\": 6.7, \"petalWidth\": 1.5, \"sepalWidth\": 3.1, \"petalLength\": 4.7, \"species\": \"versicolor\"}, {\"sepalLength\": 6.3, \"petalWidth\": 1.3, \"sepalWidth\": 2.3, \"petalLength\": 4.4, \"species\": \"versicolor\"}, {\"sepalLength\": 5.6, \"petalWidth\": 1.3, \"sepalWidth\": 3, \"petalLength\": 4.1, \"species\": \"versicolor\"}, {\"sepalLength\": 5.5, \"petalWidth\": 1.3, \"sepalWidth\": 2.5, \"petalLength\": 4, \"species\": \"versicolor\"}, {\"sepalLength\": 5.5, \"petalWidth\": 1.2, \"sepalWidth\": 2.6, \"petalLength\": 4.4, \"species\": \"versicolor\"}, {\"sepalLength\": 6.1, \"petalWidth\": 1.4, \"sepalWidth\": 3, \"petalLength\": 4.6, \"species\": \"versicolor\"}, {\"sepalLength\": 5.8, \"petalWidth\": 1.2, \"sepalWidth\": 2.6, \"petalLength\": 4, \"species\": \"versicolor\"}, {\"sepalLength\": 5, \"petalWidth\": 1, \"sepalWidth\": 2.3, \"petalLength\": 3.3, \"species\": \"versicolor\"}, {\"sepalLength\": 5.6, \"petalWidth\": 1.3, \"sepalWidth\": 2.7, \"petalLength\": 4.2, \"species\": \"versicolor\"}, {\"sepalLength\": 5.7, \"petalWidth\": 1.2, \"sepalWidth\": 3, \"petalLength\": 4.2, \"species\": \"versicolor\"}, {\"sepalLength\": 5.7, \"petalWidth\": 1.3, \"sepalWidth\": 2.9, \"petalLength\": 4.2, \"species\": \"versicolor\"}, {\"sepalLength\": 6.2, \"petalWidth\": 1.3, \"sepalWidth\": 2.9, \"petalLength\": 4.3, \"species\": \"versicolor\"}, {\"sepalLength\": 5.1, \"petalWidth\": 1.1, \"sepalWidth\": 2.5, \"petalLength\": 3, \"species\": \"versicolor\"}, {\"sepalLength\": 5.7, \"petalWidth\": 1.3, \"sepalWidth\": 2.8, \"petalLength\": 4.1, \"species\": \"versicolor\"}, {\"sepalLength\": 6.3, \"petalWidth\": 2.5, \"sepalWidth\": 3.3, \"petalLength\": 6, \"species\": \"virginica\"}, {\"sepalLength\": 5.8, \"petalWidth\": 1.9, \"sepalWidth\": 2.7, \"petalLength\": 5.1, \"species\": \"virginica\"}, {\"sepalLength\": 7.1, \"petalWidth\": 2.1, \"sepalWidth\": 3, \"petalLength\": 5.9, \"species\": \"virginica\"}, {\"sepalLength\": 6.3, \"petalWidth\": 1.8, \"sepalWidth\": 2.9, \"petalLength\": 5.6, \"species\": \"virginica\"}, {\"sepalLength\": 6.5, \"petalWidth\": 2.2, \"sepalWidth\": 3, \"petalLength\": 5.8, \"species\": \"virginica\"}, {\"sepalLength\": 7.6, \"petalWidth\": 2.1, \"sepalWidth\": 3, \"petalLength\": 6.6, \"species\": \"virginica\"}, {\"sepalLength\": 4.9, \"petalWidth\": 1.7, \"sepalWidth\": 2.5, \"petalLength\": 4.5, \"species\": \"virginica\"}, {\"sepalLength\": 7.3, \"petalWidth\": 1.8, \"sepalWidth\": 2.9, \"petalLength\": 6.3, \"species\": \"virginica\"}, {\"sepalLength\": 6.7, \"petalWidth\": 1.8, \"sepalWidth\": 2.5, \"petalLength\": 5.8, \"species\": \"virginica\"}, {\"sepalLength\": 7.2, \"petalWidth\": 2.5, \"sepalWidth\": 3.6, \"petalLength\": 6.1, \"species\": \"virginica\"}, {\"sepalLength\": 6.5, \"petalWidth\": 2, \"sepalWidth\": 3.2, \"petalLength\": 5.1, \"species\": \"virginica\"}, {\"sepalLength\": 6.4, \"petalWidth\": 1.9, \"sepalWidth\": 2.7, \"petalLength\": 5.3, \"species\": \"virginica\"}, {\"sepalLength\": 6.8, \"petalWidth\": 2.1, \"sepalWidth\": 3, \"petalLength\": 5.5, \"species\": \"virginica\"}, {\"sepalLength\": 5.7, \"petalWidth\": 2, \"sepalWidth\": 2.5, \"petalLength\": 5, \"species\": \"virginica\"}, {\"sepalLength\": 5.8, \"petalWidth\": 2.4, \"sepalWidth\": 2.8, \"petalLength\": 5.1, \"species\": \"virginica\"}, {\"sepalLength\": 6.4, \"petalWidth\": 2.3, \"sepalWidth\": 3.2, \"petalLength\": 5.3, \"species\": \"virginica\"}, {\"sepalLength\": 6.5, \"petalWidth\": 1.8, \"sepalWidth\": 3, \"petalLength\": 5.5, \"species\": \"virginica\"}, {\"sepalLength\": 7.7, \"petalWidth\": 2.2, \"sepalWidth\": 3.8, \"petalLength\": 6.7, \"species\": \"virginica\"}, {\"sepalLength\": 7.7, \"petalWidth\": 2.3, \"sepalWidth\": 2.6, \"petalLength\": 6.9, \"species\": \"virginica\"}, {\"sepalLength\": 6, \"petalWidth\": 1.5, \"sepalWidth\": 2.2, \"petalLength\": 5, \"species\": \"virginica\"}, {\"sepalLength\": 6.9, \"petalWidth\": 2.3, \"sepalWidth\": 3.2, \"petalLength\": 5.7, \"species\": \"virginica\"}, {\"sepalLength\": 5.6, \"petalWidth\": 2, \"sepalWidth\": 2.8, \"petalLength\": 4.9, \"species\": \"virginica\"}, {\"sepalLength\": 7.7, \"petalWidth\": 2, \"sepalWidth\": 2.8, \"petalLength\": 6.7, \"species\": \"virginica\"}, {\"sepalLength\": 6.3, \"petalWidth\": 1.8, \"sepalWidth\": 2.7, \"petalLength\": 4.9, \"species\": \"virginica\"}, {\"sepalLength\": 6.7, \"petalWidth\": 2.1, \"sepalWidth\": 3.3, \"petalLength\": 5.7, \"species\": \"virginica\"}, {\"sepalLength\": 7.2, \"petalWidth\": 1.8, \"sepalWidth\": 3.2, \"petalLength\": 6, \"species\": \"virginica\"}, {\"sepalLength\": 6.2, \"petalWidth\": 1.8, \"sepalWidth\": 2.8, \"petalLength\": 4.8, \"species\": \"virginica\"}, {\"sepalLength\": 6.1, \"petalWidth\": 1.8, \"sepalWidth\": 3, \"petalLength\": 4.9, \"species\": \"virginica\"}, {\"sepalLength\": 6.4, \"petalWidth\": 2.1, \"sepalWidth\": 2.8, \"petalLength\": 5.6, \"species\": \"virginica\"}, {\"sepalLength\": 7.2, \"petalWidth\": 1.6, \"sepalWidth\": 3, \"petalLength\": 5.8, \"species\": \"virginica\"}, {\"sepalLength\": 7.4, \"petalWidth\": 1.9, \"sepalWidth\": 2.8, \"petalLength\": 6.1, \"species\": \"virginica\"}, {\"sepalLength\": 7.9, \"petalWidth\": 2, \"sepalWidth\": 3.8, \"petalLength\": 6.4, \"species\": \"virginica\"}, {\"sepalLength\": 6.4, \"petalWidth\": 2.2, \"sepalWidth\": 2.8, \"petalLength\": 5.6, \"species\": \"virginica\"}, {\"sepalLength\": 6.3, \"petalWidth\": 1.5, \"sepalWidth\": 2.8, \"petalLength\": 5.1, \"species\": \"virginica\"}, {\"sepalLength\": 6.1, \"petalWidth\": 1.4, \"sepalWidth\": 2.6, \"petalLength\": 5.6, \"species\": \"virginica\"}, {\"sepalLength\": 7.7, \"petalWidth\": 2.3, \"sepalWidth\": 3, \"petalLength\": 6.1, \"species\": \"virginica\"}, {\"sepalLength\": 6.3, \"petalWidth\": 2.4, \"sepalWidth\": 3.4, \"petalLength\": 5.6, \"species\": \"virginica\"}, {\"sepalLength\": 6.4, \"petalWidth\": 1.8, \"sepalWidth\": 3.1, \"petalLength\": 5.5, \"species\": \"virginica\"}, {\"sepalLength\": 6, \"petalWidth\": 1.8, \"sepalWidth\": 3, \"petalLength\": 4.8, \"species\": \"virginica\"}, {\"sepalLength\": 6.9, \"petalWidth\": 2.1, \"sepalWidth\": 3.1, \"petalLength\": 5.4, \"species\": \"virginica\"}, {\"sepalLength\": 6.7, \"petalWidth\": 2.4, \"sepalWidth\": 3.1, \"petalLength\": 5.6, \"species\": \"virginica\"}, {\"sepalLength\": 6.9, \"petalWidth\": 2.3, \"sepalWidth\": 3.1, \"petalLength\": 5.1, \"species\": \"virginica\"}, {\"sepalLength\": 5.8, \"petalWidth\": 1.9, \"sepalWidth\": 2.7, \"petalLength\": 5.1, \"species\": \"virginica\"}, {\"sepalLength\": 6.8, \"petalWidth\": 2.3, \"sepalWidth\": 3.2, \"petalLength\": 5.9, \"species\": \"virginica\"}, {\"sepalLength\": 6.7, \"petalWidth\": 2.5, \"sepalWidth\": 3.3, \"petalLength\": 5.7, \"species\": \"virginica\"}, {\"sepalLength\": 6.7, \"petalWidth\": 2.3, \"sepalWidth\": 3, \"petalLength\": 5.2, \"species\": \"virginica\"}, {\"sepalLength\": 6.3, \"petalWidth\": 1.9, \"sepalWidth\": 2.5, \"petalLength\": 5, \"species\": \"virginica\"}, {\"sepalLength\": 6.5, \"petalWidth\": 2, \"sepalWidth\": 3, \"petalLength\": 5.2, \"species\": \"virginica\"}, {\"sepalLength\": 6.2, \"petalWidth\": 2.3, \"sepalWidth\": 3.4, \"petalLength\": 5.4, \"species\": \"virginica\"}, {\"sepalLength\": 5.9, \"petalWidth\": 1.8, \"sepalWidth\": 3, \"petalLength\": 5.1, \"species\": \"virginica\"}];\n",
        "var height=400;\n",
        "\n",
        "\n",
        "\tvar svg = d3.select('#iris_biplot')\n",
        "\t\t      .append('svg').attr('width', width).attr('height', height);\n",
        "\n",
        "\tvar scales = {\n",
        "\t\tx : d3.scale.linear()\n",
        "\t\t  .domain(featureNamesToRanges.sepalLength)\n",
        "\t\t  .range([margin, width - 2 * margin]),\n",
        "\t\ty : d3.scale.linear()\n",
        "\t\t  \t.domain(featureNamesToRanges.petalWidth)\n",
        "\t\t\t.range([height - 2 * margin, margin])\n",
        "\t};\n",
        "\n",
        "\tsvg.selectAll('.point').data(data).enter()\n",
        "\t\t.append('svg:circle')\n",
        "\t\t.attr('cx', function(d) { return scales.x(d.sepalLength) })\n",
        "\t\t.attr('cy', function(d) { return scales.y(d.petalWidth) })\n",
        "\t\t.attr('r', 4)\n",
        "        .style(\"fill\", function(d) { return speciesToColor[d.species] })\n",
        "        .style(\"fill-opacity\", .4)\n",
        "\t\t.append(\"svg:title\")\n",
        "\t\t.text(function(d) {return \"x = \" + d.sepalLength + \", y = \" + d.petalWidth + \", \" + d.species });\n",
        "\n",
        "    // http://chimera.labs.oreilly.com/books/1230000000345/ch08.html\n",
        "    var xAxis = d3.svg.axis()\n",
        "                  .scale(scales.x)\n",
        "                  .orient(\"bottom\")\n",
        "                  .ticks(5);\n",
        "    svg.append(\"g\")\n",
        "       .attr(\"class\", \"axis\")\n",
        "       .attr(\"transform\", \"translate(0,\" + (height - 2 * margin) + \")\")\n",
        "       .call(xAxis);\n",
        "\n",
        "    var xAxis = d3.svg.axis()\n",
        "                  .scale(scales.y)\n",
        "                  .orient(\"left\")\n",
        "                  .ticks(5);\n",
        "    svg.append(\"g\")\n",
        "       .attr(\"class\", \"axis\")\n",
        "       .attr(\"transform\", \"translate(\" + margin + \",0)\")\n",
        "       .call(xAxis);\n",
        "\n",
        "    svg.select(\"g\").on(\"click\", SwitchXDimension)\n",
        "    \n",
        "    function SwitchXDimension() {\n",
        "        console.log('switch')\n",
        "        svg.selectAll('circle')\n",
        "\t\t   .transition().ease('linear')\n",
        "\t\t   .attr('cx', function(d) { return scales.x(d.sepalWidth) })\n",
        "\t\t   .duration(2000)\n",
        "    }\n",
        "});\n"
       ],
       "output_type": "display_data",
       "text": [
        "<IPython.core.display.Javascript at 0x2f150d0>"
       ]
      }
     ],
     "prompt_number": 119
    },
    {
     "cell_type": "code",
     "collapsed": false,
     "input": [],
     "language": "python",
     "metadata": {},
     "outputs": []
    }
   ],
   "metadata": {}
  }
 ]
}