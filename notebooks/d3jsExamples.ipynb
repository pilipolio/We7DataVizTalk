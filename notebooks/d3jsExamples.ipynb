{
 "metadata": {
  "name": "d3jsExamples"
 },
 "nbformat": 3,
 "nbformat_minor": 0,
 "worksheets": [
  {
   "cells": [
    {
     "cell_type": "markdown",
     "metadata": {},
     "source": [
      "## A first toy example"
     ]
    },
    {
     "cell_type": "code",
     "collapsed": false,
     "input": [
      "import numpy as np\n",
      "\n",
      "width = 400\n",
      "height = 400\n",
      "\n",
      "x = np.random.normal(loc=200, scale=50, size=(50, 2))\n",
      "labels = np.random.binomial(1, .3, size=(50, 1))\n",
      "\n",
      "data = [dict(x=x, y=y, label=label) for x, y, label in np.hstack((x, labels))]\n",
      "\n",
      "[d.update(color='blue' if d['label'] == 0 else 'red') for d in data]\n",
      "data[:5]"
     ],
     "language": "python",
     "metadata": {},
     "outputs": [
      {
       "output_type": "pyout",
       "prompt_number": 21,
       "text": [
        "[{'color': 'red',\n",
        "  'label': 1.0,\n",
        "  'x': 190.89539728909875,\n",
        "  'y': 246.52017585328124},\n",
        " {'color': 'blue',\n",
        "  'label': 0.0,\n",
        "  'x': 283.18472912760126,\n",
        "  'y': 125.2028548242379},\n",
        " {'color': 'red',\n",
        "  'label': 1.0,\n",
        "  'x': 182.39233492643814,\n",
        "  'y': 260.43589972218382},\n",
        " {'color': 'blue',\n",
        "  'label': 0.0,\n",
        "  'x': 243.76087437438991,\n",
        "  'y': 208.98280306607208},\n",
        " {'color': 'red',\n",
        "  'label': 1.0,\n",
        "  'x': 154.64377530562703,\n",
        "  'y': 180.12411664552261}]"
       ]
      }
     ],
     "prompt_number": 21
    },
    {
     "cell_type": "code",
     "collapsed": false,
     "input": [
      "from helpers import HtmlScript\n",
      "\n",
      "s = HtmlScript(div_id=\"toy_biplot\", js_lib=\"http://d3js.org/d3.v3.min.js\")\n",
      "s.update_vars(\n",
      "    width=width, height=height, data=data)\n",
      "\n",
      "s.add_js(\"\"\"\n",
      "\tvar svg = d3.select('#toy_biplot')\n",
      "\t\t      .append('svg').attr('width', width).attr('height', height);\n",
      "\n",
      "\tsvg.selectAll('.point')\n",
      "       .data(data).enter()\n",
      "       .append('svg:circle')\n",
      "       .attr('cx', function(d) { return d.x })\n",
      "\t   .attr('cy', function(d) { return d.y })\n",
      "\t   .attr('r', 4)\n",
      "       .style(\"fill\", function(d) { return d.color });\n",
      "\"\"\")\n",
      "\n",
      "s.display()"
     ],
     "language": "python",
     "metadata": {},
     "outputs": [
      {
       "html": [
        "<style>\n",
        "</style>\n",
        "<div id=\"toy_biplot\">\n",
        "\n",
        "</div>"
       ],
       "output_type": "display_data",
       "text": [
        "<IPython.core.display.HTML at 0x2ad2210>"
       ]
      },
      {
       "javascript": [
        "$.getScript(\"http://d3js.org/d3.v3.min.js\", function () {\n",
        "var width=400;\n",
        "var data=[{\"y\": 246.520175853281, \"x\": 190.895397289099, \"color\": \"red\", \"label\": 1}, {\"y\": 125.202854824238, \"x\": 283.184729127601, \"color\": \"blue\", \"label\": 0}, {\"y\": 260.435899722184, \"x\": 182.392334926438, \"color\": \"red\", \"label\": 1}, {\"y\": 208.982803066072, \"x\": 243.76087437439, \"color\": \"blue\", \"label\": 0}, {\"y\": 180.124116645523, \"x\": 154.643775305627, \"color\": \"red\", \"label\": 1}, {\"y\": 289.881438257982, \"x\": 196.777818729151, \"color\": \"blue\", \"label\": 0}, {\"y\": 166.013629665405, \"x\": 195.043341366135, \"color\": \"blue\", \"label\": 0}, {\"y\": 209.914011899175, \"x\": 111.182202833316, \"color\": \"blue\", \"label\": 0}, {\"y\": 255.345596525229, \"x\": 163.226595843362, \"color\": \"red\", \"label\": 1}, {\"y\": 219.557588749784, \"x\": 194.319858701062, \"color\": \"blue\", \"label\": 0}, {\"y\": 72.4784556050958, \"x\": 198.368050156988, \"color\": \"blue\", \"label\": 0}, {\"y\": 309.048277022451, \"x\": 271.650333999131, \"color\": \"blue\", \"label\": 0}, {\"y\": 177.554424636085, \"x\": 97.7944372753006, \"color\": \"blue\", \"label\": 0}, {\"y\": 257.592236623559, \"x\": 180.49341538313, \"color\": \"red\", \"label\": 1}, {\"y\": 218.332239994037, \"x\": 306.873747726436, \"color\": \"red\", \"label\": 1}, {\"y\": 199.65403207462, \"x\": 181.171475504177, \"color\": \"red\", \"label\": 1}, {\"y\": 172.607699089257, \"x\": 161.809529767582, \"color\": \"blue\", \"label\": 0}, {\"y\": 248.1685476862, \"x\": 217.677285793873, \"color\": \"blue\", \"label\": 0}, {\"y\": 219.365550906645, \"x\": 201.77932545491, \"color\": \"blue\", \"label\": 0}, {\"y\": 218.780712616338, \"x\": 105.38547682029, \"color\": \"blue\", \"label\": 0}, {\"y\": 174.745937496235, \"x\": 252.642637982209, \"color\": \"blue\", \"label\": 0}, {\"y\": 157.26822501773, \"x\": 216.487489122243, \"color\": \"red\", \"label\": 1}, {\"y\": 116.116743500066, \"x\": 161.145067210508, \"color\": \"blue\", \"label\": 0}, {\"y\": 205.142152194864, \"x\": 203.326441484627, \"color\": \"blue\", \"label\": 0}, {\"y\": 232.872565021885, \"x\": 217.926284039074, \"color\": \"red\", \"label\": 1}, {\"y\": 201.257222777385, \"x\": 225.753716435726, \"color\": \"blue\", \"label\": 0}, {\"y\": 294.96713114436, \"x\": 160.445692402983, \"color\": \"blue\", \"label\": 0}, {\"y\": 117.393148320949, \"x\": 162.940179037897, \"color\": \"blue\", \"label\": 0}, {\"y\": 186.275054212734, \"x\": 193.272582709694, \"color\": \"blue\", \"label\": 0}, {\"y\": 182.41272492469, \"x\": 182.634344941241, \"color\": \"blue\", \"label\": 0}, {\"y\": 245.419206570351, \"x\": 250.938370217629, \"color\": \"blue\", \"label\": 0}, {\"y\": 183.837362293096, \"x\": 74.4903438010568, \"color\": \"red\", \"label\": 1}, {\"y\": 246.39051190446, \"x\": 313.421270271545, \"color\": \"red\", \"label\": 1}, {\"y\": 147.04217769327, \"x\": 121.814320073852, \"color\": \"blue\", \"label\": 0}, {\"y\": 213.774860420001, \"x\": 205.06285084891, \"color\": \"blue\", \"label\": 0}, {\"y\": 122.117649356727, \"x\": 186.901709515258, \"color\": \"red\", \"label\": 1}, {\"y\": 265.178444352931, \"x\": 148.137027489464, \"color\": \"blue\", \"label\": 0}, {\"y\": 280.217007203976, \"x\": 201.161461821723, \"color\": \"blue\", \"label\": 0}, {\"y\": 246.731593415849, \"x\": 211.335878239914, \"color\": \"red\", \"label\": 1}, {\"y\": 263.878472669144, \"x\": 147.458497895359, \"color\": \"blue\", \"label\": 0}, {\"y\": 209.226644340988, \"x\": 240.839528956349, \"color\": \"red\", \"label\": 1}, {\"y\": 182.842219338502, \"x\": 133.774540207327, \"color\": \"red\", \"label\": 1}, {\"y\": 172.904890499607, \"x\": 229.582442426706, \"color\": \"blue\", \"label\": 0}, {\"y\": 208.461514087853, \"x\": 244.766930835129, \"color\": \"blue\", \"label\": 0}, {\"y\": 203.587344169818, \"x\": 200.381950185288, \"color\": \"blue\", \"label\": 0}, {\"y\": 226.873429548313, \"x\": 293.259926220816, \"color\": \"blue\", \"label\": 0}, {\"y\": 294.324766083395, \"x\": 159.565662607109, \"color\": \"blue\", \"label\": 0}, {\"y\": 194.011663952537, \"x\": 275.578261769836, \"color\": \"blue\", \"label\": 0}, {\"y\": 124.915621753001, \"x\": 195.551862757536, \"color\": \"blue\", \"label\": 0}, {\"y\": 205.306843812278, \"x\": 220.69379993719, \"color\": \"red\", \"label\": 1}];\n",
        "var height=400;\n",
        "\n",
        "\n",
        "\tvar svg = d3.select('#toy_biplot')\n",
        "\t\t      .append('svg').attr('width', width).attr('height', height);\n",
        "\n",
        "\tsvg.selectAll('.point')\n",
        "       .data(data).enter()\n",
        "       .append('svg:circle')\n",
        "       .attr('cx', function(d) { return d.x })\n",
        "\t   .attr('cy', function(d) { return d.y })\n",
        "\t   .attr('r', 4)\n",
        "       .style(\"fill\", function(d) { return d.color });\n",
        "});\n"
       ],
       "output_type": "display_data",
       "text": [
        "<IPython.core.display.Javascript at 0x2ad2190>"
       ]
      }
     ],
     "prompt_number": 23
    },
    {
     "cell_type": "markdown",
     "metadata": {},
     "source": [
      "## Using the Iris data set"
     ]
    },
    {
     "cell_type": "code",
     "collapsed": false,
     "input": [
      "from sklearn.datasets import load_iris\n",
      "iris = load_iris()\n",
      "\n",
      "print iris.target_names\n",
      "print iris.feature_names\n",
      "iris.short_feature_names = ['sepalLength', 'sepalWidth', 'petalLength', 'petalWidth']\n",
      "print iris.short_feature_names\n",
      "print iris.data.shape\n",
      "print iris.target.shape"
     ],
     "language": "python",
     "metadata": {},
     "outputs": [
      {
       "output_type": "stream",
       "stream": "stdout",
       "text": [
        "['setosa' 'versicolor' 'virginica']\n",
        "['sepal length (cm)', 'sepal width (cm)', 'petal length (cm)', 'petal width (cm)']\n",
        "['sepalLength', 'sepalWidth', 'petalLength', 'petalWidth']\n",
        "(150, 4)\n",
        "(150,)\n"
       ]
      }
     ],
     "prompt_number": 3
    },
    {
     "cell_type": "markdown",
     "metadata": {},
     "source": [
      "### Creating a list of data points to be passed to `d3.js` as a javascript dictionary"
     ]
    },
    {
     "cell_type": "code",
     "collapsed": false,
     "input": [
      "feature_names_to_ranges = dict(zip(iris.short_feature_names, zip(np.min(iris.data, axis=0), np.max(iris.data, axis=0))))\n",
      "print \"feature_names_to_ranges = {}\\n\".format(feature_names_to_ranges)\n",
      "\n",
      "species_to_colors = dict(zip(iris.target_names, ['red', 'green', 'blue']))\n",
      "print \"species_to_colors = {}\\n\".format(species_to_colors)\n",
      "\n",
      "values_and_targets = [list(data_row) + [iris.target_names[t]] for data_row, t in zip(iris.data, iris.target)]\n",
      "values_and_targets_keys = iris.short_feature_names + ['species']\n",
      "data_points = [dict(zip(*(values_and_targets_keys, row))) for row in values_and_targets]\n",
      "print \"data_points[1] = {0}\\n\".format(data_points[1])"
     ],
     "language": "python",
     "metadata": {},
     "outputs": [
      {
       "output_type": "stream",
       "stream": "stdout",
       "text": [
        "feature_names_to_ranges = {'sepalLength': (4.2999999999999998, 7.9000000000000004), 'petalWidth': (0.10000000000000001, 2.5), 'sepalWidth': (2.0, 4.4000000000000004), 'petalLength': (1.0, 6.9000000000000004)}\n",
        "\n",
        "species_to_colors = {'setosa': 'red', 'versicolor': 'green', 'virginica': 'blue'}\n",
        "\n",
        "data_points[1] = {'sepalLength': 4.9000000000000004, 'petalWidth': 0.20000000000000001, 'sepalWidth': 3.0, 'petalLength': 1.3999999999999999, 'species': 'setosa'}\n",
        "\n"
       ]
      }
     ],
     "prompt_number": 4
    },
    {
     "cell_type": "code",
     "collapsed": false,
     "input": [
      "from helpers import HtmlScript\n",
      "\n",
      "s = HtmlScript(div_id=\"iris_biplot\", js_lib=\"http://d3js.org/d3.v3.min.js\")\n",
      "\n",
      "s.update_vars(\n",
      "    width=600, height=400, margin=40,\n",
      "    featureNamesToRanges=feature_names_to_ranges, speciesToColor=species_to_colors,\n",
      "    data=data_points)\n",
      "\n",
      "s.add_css(\"\"\"\n",
      "  .axis path,\n",
      "  .axis line {\n",
      "    fill: none;\n",
      "    stroke: black;\n",
      "    shape-rendering: crispEdges;\n",
      "  }\n",
      "\n",
      "  .axis text {\n",
      "    font-family: sans-serif;\n",
      "    font-size: 11px;\n",
      "  }\n",
      "\"\"\")\n",
      "\n",
      "s.add_js(\"\"\"\n",
      "\tvar svg = d3.select('#iris_biplot')\n",
      "\t\t      .append('svg').attr('width', width).attr('height', height);\n",
      "\n",
      "\tvar scales = {\n",
      "\t\tx : d3.scale.linear()\n",
      "\t\t  .domain(featureNamesToRanges.sepalLength)\n",
      "\t\t  .range([margin, width - 2 * margin]),\n",
      "\t\ty : d3.scale.linear()\n",
      "\t\t  \t.domain(featureNamesToRanges.petalWidth)\n",
      "\t\t\t.range([height - 2 * margin, margin])\n",
      "\t};\n",
      "\n",
      "\tsvg.selectAll('.point').data(data).enter()\n",
      "\t\t.append('svg:circle')\n",
      "\t\t.attr('cx', function(d) { return scales.x(d.sepalLength) })\n",
      "\t\t.attr('cy', function(d) { return scales.y(d.petalWidth) })\n",
      "\t\t.attr('r', 4)\n",
      "        .style(\"fill\", function(d) { return speciesToColor[d.species] })\n",
      "        .style(\"fill-opacity\", .4)\n",
      "\t\t.append(\"svg:title\")\n",
      "\t\t.text(function(d) {return \"x = \" + d.sepalLength + \", y = \" + d.petalWidth + \", \" + d.species });\n",
      "\n",
      "    // http://chimera.labs.oreilly.com/books/1230000000345/ch08.html\n",
      "    var xAxis = d3.svg.axis()\n",
      "                  .scale(scales.x)\n",
      "                  .orient(\"bottom\")\n",
      "                  .ticks(5);\n",
      "    svg.append(\"g\")\n",
      "       .attr(\"class\", \"axis\")\n",
      "       .attr(\"transform\", \"translate(0,\" + (height - 2 * margin) + \")\")\n",
      "       .call(xAxis);\n",
      "\n",
      "    var xAxis = d3.svg.axis()\n",
      "                  .scale(scales.y)\n",
      "                  .orient(\"left\")\n",
      "                  .ticks(5);\n",
      "    svg.append(\"g\")\n",
      "       .attr(\"class\", \"axis\")\n",
      "       .attr(\"transform\", \"translate(\" + margin + \",0)\")\n",
      "       .call(xAxis);\n",
      "\n",
      "    svg.select(\"g\").on(\"click\", SwitchXDimension)\n",
      "    \n",
      "    function SwitchXDimension() {\n",
      "        console.log('switch')\n",
      "        svg.selectAll('circle')\n",
      "\t\t   .transition().ease('linear')\n",
      "\t\t   .attr('cx', function(d) { return scales.x(d.sepalWidth) })\n",
      "\t\t   .duration(2000)\n",
      "    }\n",
      "\"\"\")\n",
      "\n",
      "with open('var.js', 'w') as f:\n",
      "    f.write(s.to_string())\n",
      "s.display()"
     ],
     "language": "python",
     "metadata": {},
     "outputs": [
      {
       "html": [
        "<style>\n",
        "\n",
        "  .axis path,\n",
        "  .axis line {\n",
        "    fill: none;\n",
        "    stroke: black;\n",
        "    shape-rendering: crispEdges;\n",
        "  }\n",
        "\n",
        "  .axis text {\n",
        "    font-family: sans-serif;\n",
        "    font-size: 11px;\n",
        "  }\n",
        "\n",
        "</style>\n",
        "<div id=\"iris_biplot\">\n",
        "\n",
        "</div>"
       ],
       "output_type": "display_data",
       "text": [
        "<IPython.core.display.HTML at 0x2ef6e90>"
       ]
      },
      {
       "javascript": [
        "$.getScript(\"http://d3js.org/d3.v3.min.js\", function () {\n",
        "var width=600;\n",
        "var featureNamesToRanges={\"sepalLength\": [4.3, 7.9], \"petalWidth\": [0.1, 2.5], \"sepalWidth\": [2, 4.4], \"petalLength\": [1, 6.9]};\n",
        "var speciesToColor={\"setosa\": \"red\", \"versicolor\": \"green\", \"virginica\": \"blue\"};\n",
        "var margin=40;\n",
        "var data=[{\"sepalLength\": 5.1, \"petalWidth\": 0.2, \"sepalWidth\": 3.5, \"petalLength\": 1.4, \"species\": \"setosa\"}, {\"sepalLength\": 4.9, \"petalWidth\": 0.2, \"sepalWidth\": 3, \"petalLength\": 1.4, \"species\": \"setosa\"}, {\"sepalLength\": 4.7, \"petalWidth\": 0.2, \"sepalWidth\": 3.2, \"petalLength\": 1.3, \"species\": \"setosa\"}, {\"sepalLength\": 4.6, \"petalWidth\": 0.2, \"sepalWidth\": 3.1, \"petalLength\": 1.5, \"species\": \"setosa\"}, {\"sepalLength\": 5, \"petalWidth\": 0.2, \"sepalWidth\": 3.6, \"petalLength\": 1.4, \"species\": \"setosa\"}, {\"sepalLength\": 5.4, \"petalWidth\": 0.4, \"sepalWidth\": 3.9, \"petalLength\": 1.7, \"species\": \"setosa\"}, {\"sepalLength\": 4.6, \"petalWidth\": 0.3, \"sepalWidth\": 3.4, \"petalLength\": 1.4, \"species\": \"setosa\"}, {\"sepalLength\": 5, \"petalWidth\": 0.2, \"sepalWidth\": 3.4, \"petalLength\": 1.5, \"species\": \"setosa\"}, {\"sepalLength\": 4.4, \"petalWidth\": 0.2, \"sepalWidth\": 2.9, \"petalLength\": 1.4, \"species\": \"setosa\"}, {\"sepalLength\": 4.9, \"petalWidth\": 0.1, \"sepalWidth\": 3.1, \"petalLength\": 1.5, \"species\": \"setosa\"}, {\"sepalLength\": 5.4, \"petalWidth\": 0.2, \"sepalWidth\": 3.7, \"petalLength\": 1.5, \"species\": \"setosa\"}, {\"sepalLength\": 4.8, \"petalWidth\": 0.2, \"sepalWidth\": 3.4, \"petalLength\": 1.6, \"species\": \"setosa\"}, {\"sepalLength\": 4.8, \"petalWidth\": 0.1, \"sepalWidth\": 3, \"petalLength\": 1.4, \"species\": \"setosa\"}, {\"sepalLength\": 4.3, \"petalWidth\": 0.1, \"sepalWidth\": 3, \"petalLength\": 1.1, \"species\": \"setosa\"}, {\"sepalLength\": 5.8, \"petalWidth\": 0.2, \"sepalWidth\": 4, \"petalLength\": 1.2, \"species\": \"setosa\"}, {\"sepalLength\": 5.7, \"petalWidth\": 0.4, \"sepalWidth\": 4.4, \"petalLength\": 1.5, \"species\": \"setosa\"}, {\"sepalLength\": 5.4, \"petalWidth\": 0.4, \"sepalWidth\": 3.9, \"petalLength\": 1.3, \"species\": \"setosa\"}, {\"sepalLength\": 5.1, \"petalWidth\": 0.3, \"sepalWidth\": 3.5, \"petalLength\": 1.4, \"species\": \"setosa\"}, {\"sepalLength\": 5.7, \"petalWidth\": 0.3, \"sepalWidth\": 3.8, \"petalLength\": 1.7, \"species\": \"setosa\"}, {\"sepalLength\": 5.1, \"petalWidth\": 0.3, \"sepalWidth\": 3.8, \"petalLength\": 1.5, \"species\": \"setosa\"}, {\"sepalLength\": 5.4, \"petalWidth\": 0.2, \"sepalWidth\": 3.4, \"petalLength\": 1.7, \"species\": \"setosa\"}, {\"sepalLength\": 5.1, \"petalWidth\": 0.4, \"sepalWidth\": 3.7, \"petalLength\": 1.5, \"species\": \"setosa\"}, {\"sepalLength\": 4.6, \"petalWidth\": 0.2, \"sepalWidth\": 3.6, \"petalLength\": 1, \"species\": \"setosa\"}, {\"sepalLength\": 5.1, \"petalWidth\": 0.5, \"sepalWidth\": 3.3, \"petalLength\": 1.7, \"species\": \"setosa\"}, {\"sepalLength\": 4.8, \"petalWidth\": 0.2, \"sepalWidth\": 3.4, \"petalLength\": 1.9, \"species\": \"setosa\"}, {\"sepalLength\": 5, \"petalWidth\": 0.2, \"sepalWidth\": 3, \"petalLength\": 1.6, \"species\": \"setosa\"}, {\"sepalLength\": 5, \"petalWidth\": 0.4, \"sepalWidth\": 3.4, \"petalLength\": 1.6, \"species\": \"setosa\"}, {\"sepalLength\": 5.2, \"petalWidth\": 0.2, \"sepalWidth\": 3.5, \"petalLength\": 1.5, \"species\": \"setosa\"}, {\"sepalLength\": 5.2, \"petalWidth\": 0.2, \"sepalWidth\": 3.4, \"petalLength\": 1.4, \"species\": \"setosa\"}, {\"sepalLength\": 4.7, \"petalWidth\": 0.2, \"sepalWidth\": 3.2, \"petalLength\": 1.6, \"species\": \"setosa\"}, {\"sepalLength\": 4.8, \"petalWidth\": 0.2, \"sepalWidth\": 3.1, \"petalLength\": 1.6, \"species\": \"setosa\"}, {\"sepalLength\": 5.4, \"petalWidth\": 0.4, \"sepalWidth\": 3.4, \"petalLength\": 1.5, \"species\": \"setosa\"}, {\"sepalLength\": 5.2, \"petalWidth\": 0.1, \"sepalWidth\": 4.1, \"petalLength\": 1.5, \"species\": \"setosa\"}, {\"sepalLength\": 5.5, \"petalWidth\": 0.2, \"sepalWidth\": 4.2, \"petalLength\": 1.4, \"species\": \"setosa\"}, {\"sepalLength\": 4.9, \"petalWidth\": 0.1, \"sepalWidth\": 3.1, \"petalLength\": 1.5, \"species\": \"setosa\"}, {\"sepalLength\": 5, \"petalWidth\": 0.2, \"sepalWidth\": 3.2, \"petalLength\": 1.2, \"species\": \"setosa\"}, {\"sepalLength\": 5.5, \"petalWidth\": 0.2, \"sepalWidth\": 3.5, \"petalLength\": 1.3, \"species\": \"setosa\"}, {\"sepalLength\": 4.9, \"petalWidth\": 0.1, \"sepalWidth\": 3.1, \"petalLength\": 1.5, \"species\": \"setosa\"}, {\"sepalLength\": 4.4, \"petalWidth\": 0.2, \"sepalWidth\": 3, \"petalLength\": 1.3, \"species\": \"setosa\"}, {\"sepalLength\": 5.1, \"petalWidth\": 0.2, \"sepalWidth\": 3.4, \"petalLength\": 1.5, \"species\": \"setosa\"}, {\"sepalLength\": 5, \"petalWidth\": 0.3, \"sepalWidth\": 3.5, \"petalLength\": 1.3, \"species\": \"setosa\"}, {\"sepalLength\": 4.5, \"petalWidth\": 0.3, \"sepalWidth\": 2.3, \"petalLength\": 1.3, \"species\": \"setosa\"}, {\"sepalLength\": 4.4, \"petalWidth\": 0.2, \"sepalWidth\": 3.2, \"petalLength\": 1.3, \"species\": \"setosa\"}, {\"sepalLength\": 5, \"petalWidth\": 0.6, \"sepalWidth\": 3.5, \"petalLength\": 1.6, \"species\": \"setosa\"}, {\"sepalLength\": 5.1, \"petalWidth\": 0.4, \"sepalWidth\": 3.8, \"petalLength\": 1.9, \"species\": \"setosa\"}, {\"sepalLength\": 4.8, \"petalWidth\": 0.3, \"sepalWidth\": 3, \"petalLength\": 1.4, \"species\": \"setosa\"}, {\"sepalLength\": 5.1, \"petalWidth\": 0.2, \"sepalWidth\": 3.8, \"petalLength\": 1.6, \"species\": \"setosa\"}, {\"sepalLength\": 4.6, \"petalWidth\": 0.2, \"sepalWidth\": 3.2, \"petalLength\": 1.4, \"species\": \"setosa\"}, {\"sepalLength\": 5.3, \"petalWidth\": 0.2, \"sepalWidth\": 3.7, \"petalLength\": 1.5, \"species\": \"setosa\"}, {\"sepalLength\": 5, \"petalWidth\": 0.2, \"sepalWidth\": 3.3, \"petalLength\": 1.4, \"species\": \"setosa\"}, {\"sepalLength\": 7, \"petalWidth\": 1.4, \"sepalWidth\": 3.2, \"petalLength\": 4.7, \"species\": \"versicolor\"}, {\"sepalLength\": 6.4, \"petalWidth\": 1.5, \"sepalWidth\": 3.2, \"petalLength\": 4.5, \"species\": \"versicolor\"}, {\"sepalLength\": 6.9, \"petalWidth\": 1.5, \"sepalWidth\": 3.1, \"petalLength\": 4.9, \"species\": \"versicolor\"}, {\"sepalLength\": 5.5, \"petalWidth\": 1.3, \"sepalWidth\": 2.3, \"petalLength\": 4, \"species\": \"versicolor\"}, {\"sepalLength\": 6.5, \"petalWidth\": 1.5, \"sepalWidth\": 2.8, \"petalLength\": 4.6, \"species\": \"versicolor\"}, {\"sepalLength\": 5.7, \"petalWidth\": 1.3, \"sepalWidth\": 2.8, \"petalLength\": 4.5, \"species\": \"versicolor\"}, {\"sepalLength\": 6.3, \"petalWidth\": 1.6, \"sepalWidth\": 3.3, \"petalLength\": 4.7, \"species\": \"versicolor\"}, {\"sepalLength\": 4.9, \"petalWidth\": 1, \"sepalWidth\": 2.4, \"petalLength\": 3.3, \"species\": \"versicolor\"}, {\"sepalLength\": 6.6, \"petalWidth\": 1.3, \"sepalWidth\": 2.9, \"petalLength\": 4.6, \"species\": \"versicolor\"}, {\"sepalLength\": 5.2, \"petalWidth\": 1.4, \"sepalWidth\": 2.7, \"petalLength\": 3.9, \"species\": \"versicolor\"}, {\"sepalLength\": 5, \"petalWidth\": 1, \"sepalWidth\": 2, \"petalLength\": 3.5, \"species\": \"versicolor\"}, {\"sepalLength\": 5.9, \"petalWidth\": 1.5, \"sepalWidth\": 3, \"petalLength\": 4.2, \"species\": \"versicolor\"}, {\"sepalLength\": 6, \"petalWidth\": 1, \"sepalWidth\": 2.2, \"petalLength\": 4, \"species\": \"versicolor\"}, {\"sepalLength\": 6.1, \"petalWidth\": 1.4, \"sepalWidth\": 2.9, \"petalLength\": 4.7, \"species\": \"versicolor\"}, {\"sepalLength\": 5.6, \"petalWidth\": 1.3, \"sepalWidth\": 2.9, \"petalLength\": 3.6, \"species\": \"versicolor\"}, {\"sepalLength\": 6.7, \"petalWidth\": 1.4, \"sepalWidth\": 3.1, \"petalLength\": 4.4, \"species\": \"versicolor\"}, {\"sepalLength\": 5.6, \"petalWidth\": 1.5, \"sepalWidth\": 3, \"petalLength\": 4.5, \"species\": \"versicolor\"}, {\"sepalLength\": 5.8, \"petalWidth\": 1, \"sepalWidth\": 2.7, \"petalLength\": 4.1, \"species\": \"versicolor\"}, {\"sepalLength\": 6.2, \"petalWidth\": 1.5, \"sepalWidth\": 2.2, \"petalLength\": 4.5, \"species\": \"versicolor\"}, {\"sepalLength\": 5.6, \"petalWidth\": 1.1, \"sepalWidth\": 2.5, \"petalLength\": 3.9, \"species\": \"versicolor\"}, {\"sepalLength\": 5.9, \"petalWidth\": 1.8, \"sepalWidth\": 3.2, \"petalLength\": 4.8, \"species\": \"versicolor\"}, {\"sepalLength\": 6.1, \"petalWidth\": 1.3, \"sepalWidth\": 2.8, \"petalLength\": 4, \"species\": \"versicolor\"}, {\"sepalLength\": 6.3, \"petalWidth\": 1.5, \"sepalWidth\": 2.5, \"petalLength\": 4.9, \"species\": \"versicolor\"}, {\"sepalLength\": 6.1, \"petalWidth\": 1.2, \"sepalWidth\": 2.8, \"petalLength\": 4.7, \"species\": \"versicolor\"}, {\"sepalLength\": 6.4, \"petalWidth\": 1.3, \"sepalWidth\": 2.9, \"petalLength\": 4.3, \"species\": \"versicolor\"}, {\"sepalLength\": 6.6, \"petalWidth\": 1.4, \"sepalWidth\": 3, \"petalLength\": 4.4, \"species\": \"versicolor\"}, {\"sepalLength\": 6.8, \"petalWidth\": 1.4, \"sepalWidth\": 2.8, \"petalLength\": 4.8, \"species\": \"versicolor\"}, {\"sepalLength\": 6.7, \"petalWidth\": 1.7, \"sepalWidth\": 3, \"petalLength\": 5, \"species\": \"versicolor\"}, {\"sepalLength\": 6, \"petalWidth\": 1.5, \"sepalWidth\": 2.9, \"petalLength\": 4.5, \"species\": \"versicolor\"}, {\"sepalLength\": 5.7, \"petalWidth\": 1, \"sepalWidth\": 2.6, \"petalLength\": 3.5, \"species\": \"versicolor\"}, {\"sepalLength\": 5.5, \"petalWidth\": 1.1, \"sepalWidth\": 2.4, \"petalLength\": 3.8, \"species\": \"versicolor\"}, {\"sepalLength\": 5.5, \"petalWidth\": 1, \"sepalWidth\": 2.4, \"petalLength\": 3.7, \"species\": \"versicolor\"}, {\"sepalLength\": 5.8, \"petalWidth\": 1.2, \"sepalWidth\": 2.7, \"petalLength\": 3.9, \"species\": \"versicolor\"}, {\"sepalLength\": 6, \"petalWidth\": 1.6, \"sepalWidth\": 2.7, \"petalLength\": 5.1, \"species\": \"versicolor\"}, {\"sepalLength\": 5.4, \"petalWidth\": 1.5, \"sepalWidth\": 3, \"petalLength\": 4.5, \"species\": \"versicolor\"}, {\"sepalLength\": 6, \"petalWidth\": 1.6, \"sepalWidth\": 3.4, \"petalLength\": 4.5, \"species\": \"versicolor\"}, {\"sepalLength\": 6.7, \"petalWidth\": 1.5, \"sepalWidth\": 3.1, \"petalLength\": 4.7, \"species\": \"versicolor\"}, {\"sepalLength\": 6.3, \"petalWidth\": 1.3, \"sepalWidth\": 2.3, \"petalLength\": 4.4, \"species\": \"versicolor\"}, {\"sepalLength\": 5.6, \"petalWidth\": 1.3, \"sepalWidth\": 3, \"petalLength\": 4.1, \"species\": \"versicolor\"}, {\"sepalLength\": 5.5, \"petalWidth\": 1.3, \"sepalWidth\": 2.5, \"petalLength\": 4, \"species\": \"versicolor\"}, {\"sepalLength\": 5.5, \"petalWidth\": 1.2, \"sepalWidth\": 2.6, \"petalLength\": 4.4, \"species\": \"versicolor\"}, {\"sepalLength\": 6.1, \"petalWidth\": 1.4, \"sepalWidth\": 3, \"petalLength\": 4.6, \"species\": \"versicolor\"}, {\"sepalLength\": 5.8, \"petalWidth\": 1.2, \"sepalWidth\": 2.6, \"petalLength\": 4, \"species\": \"versicolor\"}, {\"sepalLength\": 5, \"petalWidth\": 1, \"sepalWidth\": 2.3, \"petalLength\": 3.3, \"species\": \"versicolor\"}, {\"sepalLength\": 5.6, \"petalWidth\": 1.3, \"sepalWidth\": 2.7, \"petalLength\": 4.2, \"species\": \"versicolor\"}, {\"sepalLength\": 5.7, \"petalWidth\": 1.2, \"sepalWidth\": 3, \"petalLength\": 4.2, \"species\": \"versicolor\"}, {\"sepalLength\": 5.7, \"petalWidth\": 1.3, \"sepalWidth\": 2.9, \"petalLength\": 4.2, \"species\": \"versicolor\"}, {\"sepalLength\": 6.2, \"petalWidth\": 1.3, \"sepalWidth\": 2.9, \"petalLength\": 4.3, \"species\": \"versicolor\"}, {\"sepalLength\": 5.1, \"petalWidth\": 1.1, \"sepalWidth\": 2.5, \"petalLength\": 3, \"species\": \"versicolor\"}, {\"sepalLength\": 5.7, \"petalWidth\": 1.3, \"sepalWidth\": 2.8, \"petalLength\": 4.1, \"species\": \"versicolor\"}, {\"sepalLength\": 6.3, \"petalWidth\": 2.5, \"sepalWidth\": 3.3, \"petalLength\": 6, \"species\": \"virginica\"}, {\"sepalLength\": 5.8, \"petalWidth\": 1.9, \"sepalWidth\": 2.7, \"petalLength\": 5.1, \"species\": \"virginica\"}, {\"sepalLength\": 7.1, \"petalWidth\": 2.1, \"sepalWidth\": 3, \"petalLength\": 5.9, \"species\": \"virginica\"}, {\"sepalLength\": 6.3, \"petalWidth\": 1.8, \"sepalWidth\": 2.9, \"petalLength\": 5.6, \"species\": \"virginica\"}, {\"sepalLength\": 6.5, \"petalWidth\": 2.2, \"sepalWidth\": 3, \"petalLength\": 5.8, \"species\": \"virginica\"}, {\"sepalLength\": 7.6, \"petalWidth\": 2.1, \"sepalWidth\": 3, \"petalLength\": 6.6, \"species\": \"virginica\"}, {\"sepalLength\": 4.9, \"petalWidth\": 1.7, \"sepalWidth\": 2.5, \"petalLength\": 4.5, \"species\": \"virginica\"}, {\"sepalLength\": 7.3, \"petalWidth\": 1.8, \"sepalWidth\": 2.9, \"petalLength\": 6.3, \"species\": \"virginica\"}, {\"sepalLength\": 6.7, \"petalWidth\": 1.8, \"sepalWidth\": 2.5, \"petalLength\": 5.8, \"species\": \"virginica\"}, {\"sepalLength\": 7.2, \"petalWidth\": 2.5, \"sepalWidth\": 3.6, \"petalLength\": 6.1, \"species\": \"virginica\"}, {\"sepalLength\": 6.5, \"petalWidth\": 2, \"sepalWidth\": 3.2, \"petalLength\": 5.1, \"species\": \"virginica\"}, {\"sepalLength\": 6.4, \"petalWidth\": 1.9, \"sepalWidth\": 2.7, \"petalLength\": 5.3, \"species\": \"virginica\"}, {\"sepalLength\": 6.8, \"petalWidth\": 2.1, \"sepalWidth\": 3, \"petalLength\": 5.5, \"species\": \"virginica\"}, {\"sepalLength\": 5.7, \"petalWidth\": 2, \"sepalWidth\": 2.5, \"petalLength\": 5, \"species\": \"virginica\"}, {\"sepalLength\": 5.8, \"petalWidth\": 2.4, \"sepalWidth\": 2.8, \"petalLength\": 5.1, \"species\": \"virginica\"}, {\"sepalLength\": 6.4, \"petalWidth\": 2.3, \"sepalWidth\": 3.2, \"petalLength\": 5.3, \"species\": \"virginica\"}, {\"sepalLength\": 6.5, \"petalWidth\": 1.8, \"sepalWidth\": 3, \"petalLength\": 5.5, \"species\": \"virginica\"}, {\"sepalLength\": 7.7, \"petalWidth\": 2.2, \"sepalWidth\": 3.8, \"petalLength\": 6.7, \"species\": \"virginica\"}, {\"sepalLength\": 7.7, \"petalWidth\": 2.3, \"sepalWidth\": 2.6, \"petalLength\": 6.9, \"species\": \"virginica\"}, {\"sepalLength\": 6, \"petalWidth\": 1.5, \"sepalWidth\": 2.2, \"petalLength\": 5, \"species\": \"virginica\"}, {\"sepalLength\": 6.9, \"petalWidth\": 2.3, \"sepalWidth\": 3.2, \"petalLength\": 5.7, \"species\": \"virginica\"}, {\"sepalLength\": 5.6, \"petalWidth\": 2, \"sepalWidth\": 2.8, \"petalLength\": 4.9, \"species\": \"virginica\"}, {\"sepalLength\": 7.7, \"petalWidth\": 2, \"sepalWidth\": 2.8, \"petalLength\": 6.7, \"species\": \"virginica\"}, {\"sepalLength\": 6.3, \"petalWidth\": 1.8, \"sepalWidth\": 2.7, \"petalLength\": 4.9, \"species\": \"virginica\"}, {\"sepalLength\": 6.7, \"petalWidth\": 2.1, \"sepalWidth\": 3.3, \"petalLength\": 5.7, \"species\": \"virginica\"}, {\"sepalLength\": 7.2, \"petalWidth\": 1.8, \"sepalWidth\": 3.2, \"petalLength\": 6, \"species\": \"virginica\"}, {\"sepalLength\": 6.2, \"petalWidth\": 1.8, \"sepalWidth\": 2.8, \"petalLength\": 4.8, \"species\": \"virginica\"}, {\"sepalLength\": 6.1, \"petalWidth\": 1.8, \"sepalWidth\": 3, \"petalLength\": 4.9, \"species\": \"virginica\"}, {\"sepalLength\": 6.4, \"petalWidth\": 2.1, \"sepalWidth\": 2.8, \"petalLength\": 5.6, \"species\": \"virginica\"}, {\"sepalLength\": 7.2, \"petalWidth\": 1.6, \"sepalWidth\": 3, \"petalLength\": 5.8, \"species\": \"virginica\"}, {\"sepalLength\": 7.4, \"petalWidth\": 1.9, \"sepalWidth\": 2.8, \"petalLength\": 6.1, \"species\": \"virginica\"}, {\"sepalLength\": 7.9, \"petalWidth\": 2, \"sepalWidth\": 3.8, \"petalLength\": 6.4, \"species\": \"virginica\"}, {\"sepalLength\": 6.4, \"petalWidth\": 2.2, \"sepalWidth\": 2.8, \"petalLength\": 5.6, \"species\": \"virginica\"}, {\"sepalLength\": 6.3, \"petalWidth\": 1.5, \"sepalWidth\": 2.8, \"petalLength\": 5.1, \"species\": \"virginica\"}, {\"sepalLength\": 6.1, \"petalWidth\": 1.4, \"sepalWidth\": 2.6, \"petalLength\": 5.6, \"species\": \"virginica\"}, {\"sepalLength\": 7.7, \"petalWidth\": 2.3, \"sepalWidth\": 3, \"petalLength\": 6.1, \"species\": \"virginica\"}, {\"sepalLength\": 6.3, \"petalWidth\": 2.4, \"sepalWidth\": 3.4, \"petalLength\": 5.6, \"species\": \"virginica\"}, {\"sepalLength\": 6.4, \"petalWidth\": 1.8, \"sepalWidth\": 3.1, \"petalLength\": 5.5, \"species\": \"virginica\"}, {\"sepalLength\": 6, \"petalWidth\": 1.8, \"sepalWidth\": 3, \"petalLength\": 4.8, \"species\": \"virginica\"}, {\"sepalLength\": 6.9, \"petalWidth\": 2.1, \"sepalWidth\": 3.1, \"petalLength\": 5.4, \"species\": \"virginica\"}, {\"sepalLength\": 6.7, \"petalWidth\": 2.4, \"sepalWidth\": 3.1, \"petalLength\": 5.6, \"species\": \"virginica\"}, {\"sepalLength\": 6.9, \"petalWidth\": 2.3, \"sepalWidth\": 3.1, \"petalLength\": 5.1, \"species\": \"virginica\"}, {\"sepalLength\": 5.8, \"petalWidth\": 1.9, \"sepalWidth\": 2.7, \"petalLength\": 5.1, \"species\": \"virginica\"}, {\"sepalLength\": 6.8, \"petalWidth\": 2.3, \"sepalWidth\": 3.2, \"petalLength\": 5.9, \"species\": \"virginica\"}, {\"sepalLength\": 6.7, \"petalWidth\": 2.5, \"sepalWidth\": 3.3, \"petalLength\": 5.7, \"species\": \"virginica\"}, {\"sepalLength\": 6.7, \"petalWidth\": 2.3, \"sepalWidth\": 3, \"petalLength\": 5.2, \"species\": \"virginica\"}, {\"sepalLength\": 6.3, \"petalWidth\": 1.9, \"sepalWidth\": 2.5, \"petalLength\": 5, \"species\": \"virginica\"}, {\"sepalLength\": 6.5, \"petalWidth\": 2, \"sepalWidth\": 3, \"petalLength\": 5.2, \"species\": \"virginica\"}, {\"sepalLength\": 6.2, \"petalWidth\": 2.3, \"sepalWidth\": 3.4, \"petalLength\": 5.4, \"species\": \"virginica\"}, {\"sepalLength\": 5.9, \"petalWidth\": 1.8, \"sepalWidth\": 3, \"petalLength\": 5.1, \"species\": \"virginica\"}];\n",
        "var height=400;\n",
        "\n",
        "\n",
        "\tvar svg = d3.select('#iris_biplot')\n",
        "\t\t      .append('svg').attr('width', width).attr('height', height);\n",
        "\n",
        "\tvar scales = {\n",
        "\t\tx : d3.scale.linear()\n",
        "\t\t  .domain(featureNamesToRanges.sepalLength)\n",
        "\t\t  .range([margin, width - 2 * margin]),\n",
        "\t\ty : d3.scale.linear()\n",
        "\t\t  \t.domain(featureNamesToRanges.petalWidth)\n",
        "\t\t\t.range([height - 2 * margin, margin])\n",
        "\t};\n",
        "\n",
        "\tsvg.selectAll('.point').data(data).enter()\n",
        "\t\t.append('svg:circle')\n",
        "\t\t.attr('cx', function(d) { return scales.x(d.sepalLength) })\n",
        "\t\t.attr('cy', function(d) { return scales.y(d.petalWidth) })\n",
        "\t\t.attr('r', 4)\n",
        "        .style(\"fill\", function(d) { return speciesToColor[d.species] })\n",
        "        .style(\"fill-opacity\", .4)\n",
        "\t\t.append(\"svg:title\")\n",
        "\t\t.text(function(d) {return \"x = \" + d.sepalLength + \", y = \" + d.petalWidth + \", \" + d.species });\n",
        "\n",
        "    // http://chimera.labs.oreilly.com/books/1230000000345/ch08.html\n",
        "    var xAxis = d3.svg.axis()\n",
        "                  .scale(scales.x)\n",
        "                  .orient(\"bottom\")\n",
        "                  .ticks(5);\n",
        "    svg.append(\"g\")\n",
        "       .attr(\"class\", \"axis\")\n",
        "       .attr(\"transform\", \"translate(0,\" + (height - 2 * margin) + \")\")\n",
        "       .call(xAxis);\n",
        "\n",
        "    var xAxis = d3.svg.axis()\n",
        "                  .scale(scales.y)\n",
        "                  .orient(\"left\")\n",
        "                  .ticks(5);\n",
        "    svg.append(\"g\")\n",
        "       .attr(\"class\", \"axis\")\n",
        "       .attr(\"transform\", \"translate(\" + margin + \",0)\")\n",
        "       .call(xAxis);\n",
        "\n",
        "    svg.select(\"g\").on(\"click\", SwitchXDimension)\n",
        "    \n",
        "    function SwitchXDimension() {\n",
        "        console.log('switch')\n",
        "        svg.selectAll('circle')\n",
        "\t\t   .transition().ease('linear')\n",
        "\t\t   .attr('cx', function(d) { return scales.x(d.sepalWidth) })\n",
        "\t\t   .duration(2000)\n",
        "    }\n",
        "});\n"
       ],
       "output_type": "display_data",
       "text": [
        "<IPython.core.display.Javascript at 0x2ef6d10>"
       ]
      }
     ],
     "prompt_number": 24
    }
   ],
   "metadata": {}
  }
 ]
}