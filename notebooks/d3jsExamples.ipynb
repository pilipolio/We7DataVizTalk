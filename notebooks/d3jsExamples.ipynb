{
 "metadata": {
  "name": "d3jsExamples"
 },
 "nbformat": 3,
 "nbformat_minor": 0,
 "worksheets": [
  {
   "cells": [
    {
     "cell_type": "markdown",
     "metadata": {},
     "source": [
      "## Using the Iris data set\n",
      "\n",
      "x=Sepal.Length, y=Petal.Length"
     ]
    },
    {
     "cell_type": "code",
     "collapsed": false,
     "input": [
      "from sklearn.datasets import load_iris\n",
      "iris = load_iris()\n",
      "\n",
      "\n",
      "print iris.target_names\n",
      "print iris.feature_names\n",
      "iris.short_feature_names = ['sepalLength', 'sepalWidth', 'petalLength', 'petalWidth']\n",
      "print iris.short_feature_names\n",
      "print iris.data.shape\n",
      "print iris.target.shape\n"
     ],
     "language": "python",
     "metadata": {},
     "outputs": [
      {
       "output_type": "stream",
       "stream": "stdout",
       "text": [
        "['setosa' 'versicolor' 'virginica']\n",
        "['sepal length (cm)', 'sepal width (cm)', 'petal length (cm)', 'petal width (cm)']\n",
        "['sepalLength', 'sepalWidth', 'petalLength', 'petalWidth']\n",
        "(150, 4)\n",
        "(150,)\n"
       ]
      }
     ],
     "prompt_number": 67
    },
    {
     "cell_type": "markdown",
     "metadata": {},
     "source": [
      "### Creating a list of data points to be passed to `d3.js` as a javascript dictionary"
     ]
    },
    {
     "cell_type": "code",
     "collapsed": false,
     "input": [],
     "language": "python",
     "metadata": {},
     "outputs": [
      {
       "output_type": "pyout",
       "prompt_number": 73,
       "text": [
        "{'petalLength': (1.0, 6.9000000000000004),\n",
        " 'petalWidth': (0.10000000000000001, 2.5),\n",
        " 'sepalLength': (4.2999999999999998, 7.9000000000000004),\n",
        " 'sepalWidth': (2.0, 4.4000000000000004)}"
       ]
      }
     ],
     "prompt_number": 73
    },
    {
     "cell_type": "code",
     "collapsed": false,
     "input": [
      "import numpy as np\n",
      "\n",
      "feature_names_to_ranges = dict(zip(iris.short_feature_names, zip(np.min(iris.data, axis=0), np.max(iris.data, axis=0))))\n",
      "print \"feature_names_to_ranges = {}\\n\".format(feature_names_to_ranges)\n",
      "\n",
      "species_to_colors = dict(zip(iris.target_names, ['red', 'green', 'blue']))\n",
      "print \"species_to_colors = {}\\n\".format(species_to_colors)\n",
      "\n",
      "values_and_targets = [list(data_row) + [iris.target_names[t]] for data_row, t in zip(iris.data, iris.target)]\n",
      "values_and_targets_keys = iris.short_feature_names + ['species']\n",
      "data_points = [dict(zip(*(values_and_targets_keys, row))) for row in values_and_targets]\n",
      "print \"data_points[1] = {0}\\n\".format(data_points[1])"
     ],
     "language": "python",
     "metadata": {},
     "outputs": [
      {
       "output_type": "stream",
       "stream": "stdout",
       "text": [
        "feature_names_to_ranges = {'sepalLength': (4.2999999999999998, 7.9000000000000004), 'petalWidth': (0.10000000000000001, 2.5), 'sepalWidth': (2.0, 4.4000000000000004), 'petalLength': (1.0, 6.9000000000000004)}\n",
        "\n",
        "species_to_colors = {'setosa': 'red', 'versicolor': 'green', 'virginica': 'blue'}\n",
        "\n",
        "data_points[1] = {'sepalLength': 4.9000000000000004, 'petalWidth': 0.20000000000000001, 'sepalWidth': 3.0, 'petalLength': 1.3999999999999999, 'species': 'setosa'}\n",
        "\n"
       ]
      }
     ],
     "prompt_number": 95
    },
    {
     "cell_type": "code",
     "collapsed": false,
     "input": [
      "from helpers import HtmlScript\n",
      "import helpers\n",
      "reload(helpers)\n",
      "\n",
      "s = helpers.HtmlScript(div_id=\"iris_biplot\", js_lib=\"http://0.0.0.0:8000/d3.js\")\n",
      "s.update_vars(\n",
      "    width=300, height=300,\n",
      "    featureNamesToRanges=feature_names_to_ranges, speciesToColor=species_to_colors,\n",
      "    data=data_points)\n",
      "\n",
      "s.add_js(\"\"\"\n",
      "\tvar g = d3.select('#iris_biplot')\n",
      "\t\t      .append('svg').attr('width', width).attr('height', height);\n",
      "\n",
      "\tvar scales = {\n",
      "\t\tx : d3.scale.linear()\n",
      "\t\t  .domain(featureNamesToRanges.sepalLength)\n",
      "\t\t  .range([0,width]),\n",
      "\t\ty : d3.scale.linear()\n",
      "\t\t  \t.domain(featureNamesToRanges.petalWidth)\n",
      "\t\t\t.range([height,0])\n",
      "\t};\n",
      "\n",
      "\tg.selectAll('.point').data(data).enter()\n",
      "\t\t.append('svg:circle')\n",
      "\t\t.attr('cx', function(d) { \n",
      "\t\t    return scales.x(d.sepalLength)\n",
      "\t\t    })\n",
      "\t\t.attr('cy', function(d) { return scales.y(d.petalWidth);})\n",
      "\t\t.attr('r', 4)\n",
      "        .style(\"fill\", function(d) { return speciesToColor[d.species] })\n",
      "\t\t.append(\"svg:title\")\n",
      "\t\t.text(function(d) {return d.species });\n",
      "\"\"\")\n",
      "\n",
      "with open('var.js', 'w') as f:\n",
      "    f.write(s.to_string())\n",
      "s.display()"
     ],
     "language": "python",
     "metadata": {},
     "outputs": [
      {
       "html": [
        "<style>\n",
        "</style>\n",
        "<div id=\"iris_biplot\">\n",
        "\n",
        "</div>"
       ],
       "output_type": "display_data",
       "text": [
        "<IPython.core.display.HTML at 0x2de5a10>"
       ]
      },
      {
       "javascript": [
        "$.getScript(\"http://0.0.0.0:8000/d3.js\", function () {\n",
        "var speciesToColor={\"setosa\": \"red\", \"versicolor\": \"green\", \"virginica\": \"blue\"};\n",
        "var width=300;\n",
        "var featureNamesToRanges={\"sepalLength\": [4.2999999999999998, 7.9000000000000004], \"petalWidth\": [0.10000000000000001, 2.5], \"sepalWidth\": [2.0, 4.4000000000000004], \"petalLength\": [1.0, 6.9000000000000004]};\n",
        "var data=[{\"sepalLength\": 5.0999999999999996, \"petalWidth\": 0.20000000000000001, \"sepalWidth\": 3.5, \"petalLength\": 1.3999999999999999, \"species\": \"setosa\"}, {\"sepalLength\": 4.9000000000000004, \"petalWidth\": 0.20000000000000001, \"sepalWidth\": 3.0, \"petalLength\": 1.3999999999999999, \"species\": \"setosa\"}, {\"sepalLength\": 4.7000000000000002, \"petalWidth\": 0.20000000000000001, \"sepalWidth\": 3.2000000000000002, \"petalLength\": 1.3, \"species\": \"setosa\"}, {\"sepalLength\": 4.5999999999999996, \"petalWidth\": 0.20000000000000001, \"sepalWidth\": 3.1000000000000001, \"petalLength\": 1.5, \"species\": \"setosa\"}, {\"sepalLength\": 5.0, \"petalWidth\": 0.20000000000000001, \"sepalWidth\": 3.6000000000000001, \"petalLength\": 1.3999999999999999, \"species\": \"setosa\"}, {\"sepalLength\": 5.4000000000000004, \"petalWidth\": 0.40000000000000002, \"sepalWidth\": 3.8999999999999999, \"petalLength\": 1.7, \"species\": \"setosa\"}, {\"sepalLength\": 4.5999999999999996, \"petalWidth\": 0.29999999999999999, \"sepalWidth\": 3.3999999999999999, \"petalLength\": 1.3999999999999999, \"species\": \"setosa\"}, {\"sepalLength\": 5.0, \"petalWidth\": 0.20000000000000001, \"sepalWidth\": 3.3999999999999999, \"petalLength\": 1.5, \"species\": \"setosa\"}, {\"sepalLength\": 4.4000000000000004, \"petalWidth\": 0.20000000000000001, \"sepalWidth\": 2.8999999999999999, \"petalLength\": 1.3999999999999999, \"species\": \"setosa\"}, {\"sepalLength\": 4.9000000000000004, \"petalWidth\": 0.10000000000000001, \"sepalWidth\": 3.1000000000000001, \"petalLength\": 1.5, \"species\": \"setosa\"}, {\"sepalLength\": 5.4000000000000004, \"petalWidth\": 0.20000000000000001, \"sepalWidth\": 3.7000000000000002, \"petalLength\": 1.5, \"species\": \"setosa\"}, {\"sepalLength\": 4.7999999999999998, \"petalWidth\": 0.20000000000000001, \"sepalWidth\": 3.3999999999999999, \"petalLength\": 1.6000000000000001, \"species\": \"setosa\"}, {\"sepalLength\": 4.7999999999999998, \"petalWidth\": 0.10000000000000001, \"sepalWidth\": 3.0, \"petalLength\": 1.3999999999999999, \"species\": \"setosa\"}, {\"sepalLength\": 4.2999999999999998, \"petalWidth\": 0.10000000000000001, \"sepalWidth\": 3.0, \"petalLength\": 1.1000000000000001, \"species\": \"setosa\"}, {\"sepalLength\": 5.7999999999999998, \"petalWidth\": 0.20000000000000001, \"sepalWidth\": 4.0, \"petalLength\": 1.2, \"species\": \"setosa\"}, {\"sepalLength\": 5.7000000000000002, \"petalWidth\": 0.40000000000000002, \"sepalWidth\": 4.4000000000000004, \"petalLength\": 1.5, \"species\": \"setosa\"}, {\"sepalLength\": 5.4000000000000004, \"petalWidth\": 0.40000000000000002, \"sepalWidth\": 3.8999999999999999, \"petalLength\": 1.3, \"species\": \"setosa\"}, {\"sepalLength\": 5.0999999999999996, \"petalWidth\": 0.29999999999999999, \"sepalWidth\": 3.5, \"petalLength\": 1.3999999999999999, \"species\": \"setosa\"}, {\"sepalLength\": 5.7000000000000002, \"petalWidth\": 0.29999999999999999, \"sepalWidth\": 3.7999999999999998, \"petalLength\": 1.7, \"species\": \"setosa\"}, {\"sepalLength\": 5.0999999999999996, \"petalWidth\": 0.29999999999999999, \"sepalWidth\": 3.7999999999999998, \"petalLength\": 1.5, \"species\": \"setosa\"}, {\"sepalLength\": 5.4000000000000004, \"petalWidth\": 0.20000000000000001, \"sepalWidth\": 3.3999999999999999, \"petalLength\": 1.7, \"species\": \"setosa\"}, {\"sepalLength\": 5.0999999999999996, \"petalWidth\": 0.40000000000000002, \"sepalWidth\": 3.7000000000000002, \"petalLength\": 1.5, \"species\": \"setosa\"}, {\"sepalLength\": 4.5999999999999996, \"petalWidth\": 0.20000000000000001, \"sepalWidth\": 3.6000000000000001, \"petalLength\": 1.0, \"species\": \"setosa\"}, {\"sepalLength\": 5.0999999999999996, \"petalWidth\": 0.5, \"sepalWidth\": 3.2999999999999998, \"petalLength\": 1.7, \"species\": \"setosa\"}, {\"sepalLength\": 4.7999999999999998, \"petalWidth\": 0.20000000000000001, \"sepalWidth\": 3.3999999999999999, \"petalLength\": 1.8999999999999999, \"species\": \"setosa\"}, {\"sepalLength\": 5.0, \"petalWidth\": 0.20000000000000001, \"sepalWidth\": 3.0, \"petalLength\": 1.6000000000000001, \"species\": \"setosa\"}, {\"sepalLength\": 5.0, \"petalWidth\": 0.40000000000000002, \"sepalWidth\": 3.3999999999999999, \"petalLength\": 1.6000000000000001, \"species\": \"setosa\"}, {\"sepalLength\": 5.2000000000000002, \"petalWidth\": 0.20000000000000001, \"sepalWidth\": 3.5, \"petalLength\": 1.5, \"species\": \"setosa\"}, {\"sepalLength\": 5.2000000000000002, \"petalWidth\": 0.20000000000000001, \"sepalWidth\": 3.3999999999999999, \"petalLength\": 1.3999999999999999, \"species\": \"setosa\"}, {\"sepalLength\": 4.7000000000000002, \"petalWidth\": 0.20000000000000001, \"sepalWidth\": 3.2000000000000002, \"petalLength\": 1.6000000000000001, \"species\": \"setosa\"}, {\"sepalLength\": 4.7999999999999998, \"petalWidth\": 0.20000000000000001, \"sepalWidth\": 3.1000000000000001, \"petalLength\": 1.6000000000000001, \"species\": \"setosa\"}, {\"sepalLength\": 5.4000000000000004, \"petalWidth\": 0.40000000000000002, \"sepalWidth\": 3.3999999999999999, \"petalLength\": 1.5, \"species\": \"setosa\"}, {\"sepalLength\": 5.2000000000000002, \"petalWidth\": 0.10000000000000001, \"sepalWidth\": 4.0999999999999996, \"petalLength\": 1.5, \"species\": \"setosa\"}, {\"sepalLength\": 5.5, \"petalWidth\": 0.20000000000000001, \"sepalWidth\": 4.2000000000000002, \"petalLength\": 1.3999999999999999, \"species\": \"setosa\"}, {\"sepalLength\": 4.9000000000000004, \"petalWidth\": 0.10000000000000001, \"sepalWidth\": 3.1000000000000001, \"petalLength\": 1.5, \"species\": \"setosa\"}, {\"sepalLength\": 5.0, \"petalWidth\": 0.20000000000000001, \"sepalWidth\": 3.2000000000000002, \"petalLength\": 1.2, \"species\": \"setosa\"}, {\"sepalLength\": 5.5, \"petalWidth\": 0.20000000000000001, \"sepalWidth\": 3.5, \"petalLength\": 1.3, \"species\": \"setosa\"}, {\"sepalLength\": 4.9000000000000004, \"petalWidth\": 0.10000000000000001, \"sepalWidth\": 3.1000000000000001, \"petalLength\": 1.5, \"species\": \"setosa\"}, {\"sepalLength\": 4.4000000000000004, \"petalWidth\": 0.20000000000000001, \"sepalWidth\": 3.0, \"petalLength\": 1.3, \"species\": \"setosa\"}, {\"sepalLength\": 5.0999999999999996, \"petalWidth\": 0.20000000000000001, \"sepalWidth\": 3.3999999999999999, \"petalLength\": 1.5, \"species\": \"setosa\"}, {\"sepalLength\": 5.0, \"petalWidth\": 0.29999999999999999, \"sepalWidth\": 3.5, \"petalLength\": 1.3, \"species\": \"setosa\"}, {\"sepalLength\": 4.5, \"petalWidth\": 0.29999999999999999, \"sepalWidth\": 2.2999999999999998, \"petalLength\": 1.3, \"species\": \"setosa\"}, {\"sepalLength\": 4.4000000000000004, \"petalWidth\": 0.20000000000000001, \"sepalWidth\": 3.2000000000000002, \"petalLength\": 1.3, \"species\": \"setosa\"}, {\"sepalLength\": 5.0, \"petalWidth\": 0.59999999999999998, \"sepalWidth\": 3.5, \"petalLength\": 1.6000000000000001, \"species\": \"setosa\"}, {\"sepalLength\": 5.0999999999999996, \"petalWidth\": 0.40000000000000002, \"sepalWidth\": 3.7999999999999998, \"petalLength\": 1.8999999999999999, \"species\": \"setosa\"}, {\"sepalLength\": 4.7999999999999998, \"petalWidth\": 0.29999999999999999, \"sepalWidth\": 3.0, \"petalLength\": 1.3999999999999999, \"species\": \"setosa\"}, {\"sepalLength\": 5.0999999999999996, \"petalWidth\": 0.20000000000000001, \"sepalWidth\": 3.7999999999999998, \"petalLength\": 1.6000000000000001, \"species\": \"setosa\"}, {\"sepalLength\": 4.5999999999999996, \"petalWidth\": 0.20000000000000001, \"sepalWidth\": 3.2000000000000002, \"petalLength\": 1.3999999999999999, \"species\": \"setosa\"}, {\"sepalLength\": 5.2999999999999998, \"petalWidth\": 0.20000000000000001, \"sepalWidth\": 3.7000000000000002, \"petalLength\": 1.5, \"species\": \"setosa\"}, {\"sepalLength\": 5.0, \"petalWidth\": 0.20000000000000001, \"sepalWidth\": 3.2999999999999998, \"petalLength\": 1.3999999999999999, \"species\": \"setosa\"}, {\"sepalLength\": 7.0, \"petalWidth\": 1.3999999999999999, \"sepalWidth\": 3.2000000000000002, \"petalLength\": 4.7000000000000002, \"species\": \"versicolor\"}, {\"sepalLength\": 6.4000000000000004, \"petalWidth\": 1.5, \"sepalWidth\": 3.2000000000000002, \"petalLength\": 4.5, \"species\": \"versicolor\"}, {\"sepalLength\": 6.9000000000000004, \"petalWidth\": 1.5, \"sepalWidth\": 3.1000000000000001, \"petalLength\": 4.9000000000000004, \"species\": \"versicolor\"}, {\"sepalLength\": 5.5, \"petalWidth\": 1.3, \"sepalWidth\": 2.2999999999999998, \"petalLength\": 4.0, \"species\": \"versicolor\"}, {\"sepalLength\": 6.5, \"petalWidth\": 1.5, \"sepalWidth\": 2.7999999999999998, \"petalLength\": 4.5999999999999996, \"species\": \"versicolor\"}, {\"sepalLength\": 5.7000000000000002, \"petalWidth\": 1.3, \"sepalWidth\": 2.7999999999999998, \"petalLength\": 4.5, \"species\": \"versicolor\"}, {\"sepalLength\": 6.2999999999999998, \"petalWidth\": 1.6000000000000001, \"sepalWidth\": 3.2999999999999998, \"petalLength\": 4.7000000000000002, \"species\": \"versicolor\"}, {\"sepalLength\": 4.9000000000000004, \"petalWidth\": 1.0, \"sepalWidth\": 2.3999999999999999, \"petalLength\": 3.2999999999999998, \"species\": \"versicolor\"}, {\"sepalLength\": 6.5999999999999996, \"petalWidth\": 1.3, \"sepalWidth\": 2.8999999999999999, \"petalLength\": 4.5999999999999996, \"species\": \"versicolor\"}, {\"sepalLength\": 5.2000000000000002, \"petalWidth\": 1.3999999999999999, \"sepalWidth\": 2.7000000000000002, \"petalLength\": 3.8999999999999999, \"species\": \"versicolor\"}, {\"sepalLength\": 5.0, \"petalWidth\": 1.0, \"sepalWidth\": 2.0, \"petalLength\": 3.5, \"species\": \"versicolor\"}, {\"sepalLength\": 5.9000000000000004, \"petalWidth\": 1.5, \"sepalWidth\": 3.0, \"petalLength\": 4.2000000000000002, \"species\": \"versicolor\"}, {\"sepalLength\": 6.0, \"petalWidth\": 1.0, \"sepalWidth\": 2.2000000000000002, \"petalLength\": 4.0, \"species\": \"versicolor\"}, {\"sepalLength\": 6.0999999999999996, \"petalWidth\": 1.3999999999999999, \"sepalWidth\": 2.8999999999999999, \"petalLength\": 4.7000000000000002, \"species\": \"versicolor\"}, {\"sepalLength\": 5.5999999999999996, \"petalWidth\": 1.3, \"sepalWidth\": 2.8999999999999999, \"petalLength\": 3.6000000000000001, \"species\": \"versicolor\"}, {\"sepalLength\": 6.7000000000000002, \"petalWidth\": 1.3999999999999999, \"sepalWidth\": 3.1000000000000001, \"petalLength\": 4.4000000000000004, \"species\": \"versicolor\"}, {\"sepalLength\": 5.5999999999999996, \"petalWidth\": 1.5, \"sepalWidth\": 3.0, \"petalLength\": 4.5, \"species\": \"versicolor\"}, {\"sepalLength\": 5.7999999999999998, \"petalWidth\": 1.0, \"sepalWidth\": 2.7000000000000002, \"petalLength\": 4.0999999999999996, \"species\": \"versicolor\"}, {\"sepalLength\": 6.2000000000000002, \"petalWidth\": 1.5, \"sepalWidth\": 2.2000000000000002, \"petalLength\": 4.5, \"species\": \"versicolor\"}, {\"sepalLength\": 5.5999999999999996, \"petalWidth\": 1.1000000000000001, \"sepalWidth\": 2.5, \"petalLength\": 3.8999999999999999, \"species\": \"versicolor\"}, {\"sepalLength\": 5.9000000000000004, \"petalWidth\": 1.8, \"sepalWidth\": 3.2000000000000002, \"petalLength\": 4.7999999999999998, \"species\": \"versicolor\"}, {\"sepalLength\": 6.0999999999999996, \"petalWidth\": 1.3, \"sepalWidth\": 2.7999999999999998, \"petalLength\": 4.0, \"species\": \"versicolor\"}, {\"sepalLength\": 6.2999999999999998, \"petalWidth\": 1.5, \"sepalWidth\": 2.5, \"petalLength\": 4.9000000000000004, \"species\": \"versicolor\"}, {\"sepalLength\": 6.0999999999999996, \"petalWidth\": 1.2, \"sepalWidth\": 2.7999999999999998, \"petalLength\": 4.7000000000000002, \"species\": \"versicolor\"}, {\"sepalLength\": 6.4000000000000004, \"petalWidth\": 1.3, \"sepalWidth\": 2.8999999999999999, \"petalLength\": 4.2999999999999998, \"species\": \"versicolor\"}, {\"sepalLength\": 6.5999999999999996, \"petalWidth\": 1.3999999999999999, \"sepalWidth\": 3.0, \"petalLength\": 4.4000000000000004, \"species\": \"versicolor\"}, {\"sepalLength\": 6.7999999999999998, \"petalWidth\": 1.3999999999999999, \"sepalWidth\": 2.7999999999999998, \"petalLength\": 4.7999999999999998, \"species\": \"versicolor\"}, {\"sepalLength\": 6.7000000000000002, \"petalWidth\": 1.7, \"sepalWidth\": 3.0, \"petalLength\": 5.0, \"species\": \"versicolor\"}, {\"sepalLength\": 6.0, \"petalWidth\": 1.5, \"sepalWidth\": 2.8999999999999999, \"petalLength\": 4.5, \"species\": \"versicolor\"}, {\"sepalLength\": 5.7000000000000002, \"petalWidth\": 1.0, \"sepalWidth\": 2.6000000000000001, \"petalLength\": 3.5, \"species\": \"versicolor\"}, {\"sepalLength\": 5.5, \"petalWidth\": 1.1000000000000001, \"sepalWidth\": 2.3999999999999999, \"petalLength\": 3.7999999999999998, \"species\": \"versicolor\"}, {\"sepalLength\": 5.5, \"petalWidth\": 1.0, \"sepalWidth\": 2.3999999999999999, \"petalLength\": 3.7000000000000002, \"species\": \"versicolor\"}, {\"sepalLength\": 5.7999999999999998, \"petalWidth\": 1.2, \"sepalWidth\": 2.7000000000000002, \"petalLength\": 3.8999999999999999, \"species\": \"versicolor\"}, {\"sepalLength\": 6.0, \"petalWidth\": 1.6000000000000001, \"sepalWidth\": 2.7000000000000002, \"petalLength\": 5.0999999999999996, \"species\": \"versicolor\"}, {\"sepalLength\": 5.4000000000000004, \"petalWidth\": 1.5, \"sepalWidth\": 3.0, \"petalLength\": 4.5, \"species\": \"versicolor\"}, {\"sepalLength\": 6.0, \"petalWidth\": 1.6000000000000001, \"sepalWidth\": 3.3999999999999999, \"petalLength\": 4.5, \"species\": \"versicolor\"}, {\"sepalLength\": 6.7000000000000002, \"petalWidth\": 1.5, \"sepalWidth\": 3.1000000000000001, \"petalLength\": 4.7000000000000002, \"species\": \"versicolor\"}, {\"sepalLength\": 6.2999999999999998, \"petalWidth\": 1.3, \"sepalWidth\": 2.2999999999999998, \"petalLength\": 4.4000000000000004, \"species\": \"versicolor\"}, {\"sepalLength\": 5.5999999999999996, \"petalWidth\": 1.3, \"sepalWidth\": 3.0, \"petalLength\": 4.0999999999999996, \"species\": \"versicolor\"}, {\"sepalLength\": 5.5, \"petalWidth\": 1.3, \"sepalWidth\": 2.5, \"petalLength\": 4.0, \"species\": \"versicolor\"}, {\"sepalLength\": 5.5, \"petalWidth\": 1.2, \"sepalWidth\": 2.6000000000000001, \"petalLength\": 4.4000000000000004, \"species\": \"versicolor\"}, {\"sepalLength\": 6.0999999999999996, \"petalWidth\": 1.3999999999999999, \"sepalWidth\": 3.0, \"petalLength\": 4.5999999999999996, \"species\": \"versicolor\"}, {\"sepalLength\": 5.7999999999999998, \"petalWidth\": 1.2, \"sepalWidth\": 2.6000000000000001, \"petalLength\": 4.0, \"species\": \"versicolor\"}, {\"sepalLength\": 5.0, \"petalWidth\": 1.0, \"sepalWidth\": 2.2999999999999998, \"petalLength\": 3.2999999999999998, \"species\": \"versicolor\"}, {\"sepalLength\": 5.5999999999999996, \"petalWidth\": 1.3, \"sepalWidth\": 2.7000000000000002, \"petalLength\": 4.2000000000000002, \"species\": \"versicolor\"}, {\"sepalLength\": 5.7000000000000002, \"petalWidth\": 1.2, \"sepalWidth\": 3.0, \"petalLength\": 4.2000000000000002, \"species\": \"versicolor\"}, {\"sepalLength\": 5.7000000000000002, \"petalWidth\": 1.3, \"sepalWidth\": 2.8999999999999999, \"petalLength\": 4.2000000000000002, \"species\": \"versicolor\"}, {\"sepalLength\": 6.2000000000000002, \"petalWidth\": 1.3, \"sepalWidth\": 2.8999999999999999, \"petalLength\": 4.2999999999999998, \"species\": \"versicolor\"}, {\"sepalLength\": 5.0999999999999996, \"petalWidth\": 1.1000000000000001, \"sepalWidth\": 2.5, \"petalLength\": 3.0, \"species\": \"versicolor\"}, {\"sepalLength\": 5.7000000000000002, \"petalWidth\": 1.3, \"sepalWidth\": 2.7999999999999998, \"petalLength\": 4.0999999999999996, \"species\": \"versicolor\"}, {\"sepalLength\": 6.2999999999999998, \"petalWidth\": 2.5, \"sepalWidth\": 3.2999999999999998, \"petalLength\": 6.0, \"species\": \"virginica\"}, {\"sepalLength\": 5.7999999999999998, \"petalWidth\": 1.8999999999999999, \"sepalWidth\": 2.7000000000000002, \"petalLength\": 5.0999999999999996, \"species\": \"virginica\"}, {\"sepalLength\": 7.0999999999999996, \"petalWidth\": 2.1000000000000001, \"sepalWidth\": 3.0, \"petalLength\": 5.9000000000000004, \"species\": \"virginica\"}, {\"sepalLength\": 6.2999999999999998, \"petalWidth\": 1.8, \"sepalWidth\": 2.8999999999999999, \"petalLength\": 5.5999999999999996, \"species\": \"virginica\"}, {\"sepalLength\": 6.5, \"petalWidth\": 2.2000000000000002, \"sepalWidth\": 3.0, \"petalLength\": 5.7999999999999998, \"species\": \"virginica\"}, {\"sepalLength\": 7.5999999999999996, \"petalWidth\": 2.1000000000000001, \"sepalWidth\": 3.0, \"petalLength\": 6.5999999999999996, \"species\": \"virginica\"}, {\"sepalLength\": 4.9000000000000004, \"petalWidth\": 1.7, \"sepalWidth\": 2.5, \"petalLength\": 4.5, \"species\": \"virginica\"}, {\"sepalLength\": 7.2999999999999998, \"petalWidth\": 1.8, \"sepalWidth\": 2.8999999999999999, \"petalLength\": 6.2999999999999998, \"species\": \"virginica\"}, {\"sepalLength\": 6.7000000000000002, \"petalWidth\": 1.8, \"sepalWidth\": 2.5, \"petalLength\": 5.7999999999999998, \"species\": \"virginica\"}, {\"sepalLength\": 7.2000000000000002, \"petalWidth\": 2.5, \"sepalWidth\": 3.6000000000000001, \"petalLength\": 6.0999999999999996, \"species\": \"virginica\"}, {\"sepalLength\": 6.5, \"petalWidth\": 2.0, \"sepalWidth\": 3.2000000000000002, \"petalLength\": 5.0999999999999996, \"species\": \"virginica\"}, {\"sepalLength\": 6.4000000000000004, \"petalWidth\": 1.8999999999999999, \"sepalWidth\": 2.7000000000000002, \"petalLength\": 5.2999999999999998, \"species\": \"virginica\"}, {\"sepalLength\": 6.7999999999999998, \"petalWidth\": 2.1000000000000001, \"sepalWidth\": 3.0, \"petalLength\": 5.5, \"species\": \"virginica\"}, {\"sepalLength\": 5.7000000000000002, \"petalWidth\": 2.0, \"sepalWidth\": 2.5, \"petalLength\": 5.0, \"species\": \"virginica\"}, {\"sepalLength\": 5.7999999999999998, \"petalWidth\": 2.3999999999999999, \"sepalWidth\": 2.7999999999999998, \"petalLength\": 5.0999999999999996, \"species\": \"virginica\"}, {\"sepalLength\": 6.4000000000000004, \"petalWidth\": 2.2999999999999998, \"sepalWidth\": 3.2000000000000002, \"petalLength\": 5.2999999999999998, \"species\": \"virginica\"}, {\"sepalLength\": 6.5, \"petalWidth\": 1.8, \"sepalWidth\": 3.0, \"petalLength\": 5.5, \"species\": \"virginica\"}, {\"sepalLength\": 7.7000000000000002, \"petalWidth\": 2.2000000000000002, \"sepalWidth\": 3.7999999999999998, \"petalLength\": 6.7000000000000002, \"species\": \"virginica\"}, {\"sepalLength\": 7.7000000000000002, \"petalWidth\": 2.2999999999999998, \"sepalWidth\": 2.6000000000000001, \"petalLength\": 6.9000000000000004, \"species\": \"virginica\"}, {\"sepalLength\": 6.0, \"petalWidth\": 1.5, \"sepalWidth\": 2.2000000000000002, \"petalLength\": 5.0, \"species\": \"virginica\"}, {\"sepalLength\": 6.9000000000000004, \"petalWidth\": 2.2999999999999998, \"sepalWidth\": 3.2000000000000002, \"petalLength\": 5.7000000000000002, \"species\": \"virginica\"}, {\"sepalLength\": 5.5999999999999996, \"petalWidth\": 2.0, \"sepalWidth\": 2.7999999999999998, \"petalLength\": 4.9000000000000004, \"species\": \"virginica\"}, {\"sepalLength\": 7.7000000000000002, \"petalWidth\": 2.0, \"sepalWidth\": 2.7999999999999998, \"petalLength\": 6.7000000000000002, \"species\": \"virginica\"}, {\"sepalLength\": 6.2999999999999998, \"petalWidth\": 1.8, \"sepalWidth\": 2.7000000000000002, \"petalLength\": 4.9000000000000004, \"species\": \"virginica\"}, {\"sepalLength\": 6.7000000000000002, \"petalWidth\": 2.1000000000000001, \"sepalWidth\": 3.2999999999999998, \"petalLength\": 5.7000000000000002, \"species\": \"virginica\"}, {\"sepalLength\": 7.2000000000000002, \"petalWidth\": 1.8, \"sepalWidth\": 3.2000000000000002, \"petalLength\": 6.0, \"species\": \"virginica\"}, {\"sepalLength\": 6.2000000000000002, \"petalWidth\": 1.8, \"sepalWidth\": 2.7999999999999998, \"petalLength\": 4.7999999999999998, \"species\": \"virginica\"}, {\"sepalLength\": 6.0999999999999996, \"petalWidth\": 1.8, \"sepalWidth\": 3.0, \"petalLength\": 4.9000000000000004, \"species\": \"virginica\"}, {\"sepalLength\": 6.4000000000000004, \"petalWidth\": 2.1000000000000001, \"sepalWidth\": 2.7999999999999998, \"petalLength\": 5.5999999999999996, \"species\": \"virginica\"}, {\"sepalLength\": 7.2000000000000002, \"petalWidth\": 1.6000000000000001, \"sepalWidth\": 3.0, \"petalLength\": 5.7999999999999998, \"species\": \"virginica\"}, {\"sepalLength\": 7.4000000000000004, \"petalWidth\": 1.8999999999999999, \"sepalWidth\": 2.7999999999999998, \"petalLength\": 6.0999999999999996, \"species\": \"virginica\"}, {\"sepalLength\": 7.9000000000000004, \"petalWidth\": 2.0, \"sepalWidth\": 3.7999999999999998, \"petalLength\": 6.4000000000000004, \"species\": \"virginica\"}, {\"sepalLength\": 6.4000000000000004, \"petalWidth\": 2.2000000000000002, \"sepalWidth\": 2.7999999999999998, \"petalLength\": 5.5999999999999996, \"species\": \"virginica\"}, {\"sepalLength\": 6.2999999999999998, \"petalWidth\": 1.5, \"sepalWidth\": 2.7999999999999998, \"petalLength\": 5.0999999999999996, \"species\": \"virginica\"}, {\"sepalLength\": 6.0999999999999996, \"petalWidth\": 1.3999999999999999, \"sepalWidth\": 2.6000000000000001, \"petalLength\": 5.5999999999999996, \"species\": \"virginica\"}, {\"sepalLength\": 7.7000000000000002, \"petalWidth\": 2.2999999999999998, \"sepalWidth\": 3.0, \"petalLength\": 6.0999999999999996, \"species\": \"virginica\"}, {\"sepalLength\": 6.2999999999999998, \"petalWidth\": 2.3999999999999999, \"sepalWidth\": 3.3999999999999999, \"petalLength\": 5.5999999999999996, \"species\": \"virginica\"}, {\"sepalLength\": 6.4000000000000004, \"petalWidth\": 1.8, \"sepalWidth\": 3.1000000000000001, \"petalLength\": 5.5, \"species\": \"virginica\"}, {\"sepalLength\": 6.0, \"petalWidth\": 1.8, \"sepalWidth\": 3.0, \"petalLength\": 4.7999999999999998, \"species\": \"virginica\"}, {\"sepalLength\": 6.9000000000000004, \"petalWidth\": 2.1000000000000001, \"sepalWidth\": 3.1000000000000001, \"petalLength\": 5.4000000000000004, \"species\": \"virginica\"}, {\"sepalLength\": 6.7000000000000002, \"petalWidth\": 2.3999999999999999, \"sepalWidth\": 3.1000000000000001, \"petalLength\": 5.5999999999999996, \"species\": \"virginica\"}, {\"sepalLength\": 6.9000000000000004, \"petalWidth\": 2.2999999999999998, \"sepalWidth\": 3.1000000000000001, \"petalLength\": 5.0999999999999996, \"species\": \"virginica\"}, {\"sepalLength\": 5.7999999999999998, \"petalWidth\": 1.8999999999999999, \"sepalWidth\": 2.7000000000000002, \"petalLength\": 5.0999999999999996, \"species\": \"virginica\"}, {\"sepalLength\": 6.7999999999999998, \"petalWidth\": 2.2999999999999998, \"sepalWidth\": 3.2000000000000002, \"petalLength\": 5.9000000000000004, \"species\": \"virginica\"}, {\"sepalLength\": 6.7000000000000002, \"petalWidth\": 2.5, \"sepalWidth\": 3.2999999999999998, \"petalLength\": 5.7000000000000002, \"species\": \"virginica\"}, {\"sepalLength\": 6.7000000000000002, \"petalWidth\": 2.2999999999999998, \"sepalWidth\": 3.0, \"petalLength\": 5.2000000000000002, \"species\": \"virginica\"}, {\"sepalLength\": 6.2999999999999998, \"petalWidth\": 1.8999999999999999, \"sepalWidth\": 2.5, \"petalLength\": 5.0, \"species\": \"virginica\"}, {\"sepalLength\": 6.5, \"petalWidth\": 2.0, \"sepalWidth\": 3.0, \"petalLength\": 5.2000000000000002, \"species\": \"virginica\"}, {\"sepalLength\": 6.2000000000000002, \"petalWidth\": 2.2999999999999998, \"sepalWidth\": 3.3999999999999999, \"petalLength\": 5.4000000000000004, \"species\": \"virginica\"}, {\"sepalLength\": 5.9000000000000004, \"petalWidth\": 1.8, \"sepalWidth\": 3.0, \"petalLength\": 5.0999999999999996, \"species\": \"virginica\"}];\n",
        "var height=300;\n",
        "\n",
        "\n",
        "\tvar g = d3.select('#iris_biplot')\n",
        "\t\t      .append('svg').attr('width', width).attr('height', height);\n",
        "\n",
        "\tvar scales = {\n",
        "\t\tx : d3.scale.linear()\n",
        "\t\t  .domain(featureNamesToRanges.sepalLength)\n",
        "\t\t  .range([0,width]),\n",
        "\t\ty : d3.scale.linear()\n",
        "\t\t  \t.domain(featureNamesToRanges.petalWidth)\n",
        "\t\t\t.range([height,0])\n",
        "\t};\n",
        "\n",
        "\tg.selectAll('.point').data(data).enter()\n",
        "\t\t.append('svg:circle')\n",
        "\t\t.attr('cx', function(d) { \n",
        "\t\t    return scales.x(d.sepalLength)\n",
        "\t\t    })\n",
        "\t\t.attr('cy', function(d) { return scales.y(d.petalWidth);})\n",
        "\t\t.attr('r', 4)\n",
        "        .style(\"fill\", function(d) { return speciesToColor[d.species] })\n",
        "\t\t.append(\"svg:title\")\n",
        "\t\t.text(function(d) {return d.species });\n",
        "});\n"
       ],
       "output_type": "display_data",
       "text": [
        "<IPython.core.display.Javascript at 0x2deec10>"
       ]
      }
     ],
     "prompt_number": 98
    }
   ],
   "metadata": {}
  }
 ]
}