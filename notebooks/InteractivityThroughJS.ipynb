{
 "metadata": {
  "name": "InteractivityThroughJS"
 },
 "nbformat": 3,
 "nbformat_minor": 0,
 "worksheets": [
  {
   "cells": [
    {
     "cell_type": "code",
     "collapsed": false,
     "input": [
      "import pandas as pd\n",
      "pd.__version__"
     ],
     "language": "python",
     "metadata": {},
     "outputs": [
      {
       "output_type": "pyout",
       "prompt_number": 1,
       "text": [
        "'0.12.0'"
       ]
      }
     ],
     "prompt_number": 1
    },
    {
     "cell_type": "code",
     "collapsed": false,
     "input": [
      "import IPython\n",
      "from IPython.display import HTML, Javascript, display\n",
      "IPython.__version__\n"
     ],
     "language": "python",
     "metadata": {},
     "outputs": [
      {
       "output_type": "pyout",
       "prompt_number": 2,
       "text": [
        "'0.13.2'"
       ]
      }
     ],
     "prompt_number": 2
    },
    {
     "cell_type": "markdown",
     "metadata": {},
     "source": [
      "## `Pandas.Data_Frame.to_html`"
     ]
    },
    {
     "cell_type": "code",
     "collapsed": false,
     "input": [
      "df = pd.DataFrame({'correlation':[0.5, 0.1,0.9], 'p_value':[0.1,0.8,0.01]})\n",
      "\n",
      "df.to_html()"
     ],
     "language": "python",
     "metadata": {},
     "outputs": [
      {
       "output_type": "pyout",
       "prompt_number": 3,
       "text": [
        "u'<table border=\"1\" class=\"dataframe\">\\n  <thead>\\n    <tr style=\"text-align: right;\">\\n      <th></th>\\n      <th>correlation</th>\\n      <th>p_value</th>\\n    </tr>\\n  </thead>\\n  <tbody>\\n    <tr>\\n      <th>0</th>\\n      <td> 0.5</td>\\n      <td> 0.10</td>\\n    </tr>\\n    <tr>\\n      <th>1</th>\\n      <td> 0.1</td>\\n      <td> 0.80</td>\\n    </tr>\\n    <tr>\\n      <th>2</th>\\n      <td> 0.9</td>\\n      <td> 0.01</td>\\n    </tr>\\n  </tbody>\\n</table>'"
       ]
      }
     ],
     "prompt_number": 3
    },
    {
     "cell_type": "code",
     "collapsed": false,
     "input": [
      "df"
     ],
     "language": "python",
     "metadata": {},
     "outputs": [
      {
       "html": [
        "<div style=\"max-height:1000px;max-width:1500px;overflow:auto;\">\n",
        "<table border=\"1\" class=\"dataframe\">\n",
        "  <thead>\n",
        "    <tr style=\"text-align: right;\">\n",
        "      <th></th>\n",
        "      <th>correlation</th>\n",
        "      <th>p_value</th>\n",
        "    </tr>\n",
        "  </thead>\n",
        "  <tbody>\n",
        "    <tr>\n",
        "      <th>0</th>\n",
        "      <td> 0.5</td>\n",
        "      <td> 0.10</td>\n",
        "    </tr>\n",
        "    <tr>\n",
        "      <th>1</th>\n",
        "      <td> 0.1</td>\n",
        "      <td> 0.80</td>\n",
        "    </tr>\n",
        "    <tr>\n",
        "      <th>2</th>\n",
        "      <td> 0.9</td>\n",
        "      <td> 0.01</td>\n",
        "    </tr>\n",
        "  </tbody>\n",
        "</table>\n",
        "</div>"
       ],
       "output_type": "pyout",
       "prompt_number": 4,
       "text": [
        "   correlation  p_value\n",
        "0          0.5     0.10\n",
        "1          0.1     0.80\n",
        "2          0.9     0.01"
       ]
      }
     ],
     "prompt_number": 4
    },
    {
     "cell_type": "markdown",
     "metadata": {},
     "source": [
      "## Python based cell formatting using the `formatters` option\n",
      "\n",
      "(as explained [here](http://stackoverflow.com/questions/14627380/pandas-html-output-with-conditional-formatting))"
     ]
    },
    {
     "cell_type": "code",
     "collapsed": false,
     "input": [
      "conditionnal_cell_format = \"<span style='background-color:#FFF000;' >%.2f</span>\"\n",
      "p_value_formatter = {'p_value':lambda x: conditionnal_cell_format % x if x < 0.05 else str(x)}\n",
      "\n",
      "HTML(df.to_html(formatters=p_value_formatter, escape=False))"
     ],
     "language": "python",
     "metadata": {},
     "outputs": [
      {
       "html": [
        "<table border=\"1\" class=\"dataframe\">\n",
        "  <thead>\n",
        "    <tr style=\"text-align: right;\">\n",
        "      <th></th>\n",
        "      <th>correlation</th>\n",
        "      <th>p_value</th>\n",
        "    </tr>\n",
        "  </thead>\n",
        "  <tbody>\n",
        "    <tr>\n",
        "      <th>0</th>\n",
        "      <td> 0.5</td>\n",
        "      <td>                                               0.1</td>\n",
        "    </tr>\n",
        "    <tr>\n",
        "      <th>1</th>\n",
        "      <td> 0.1</td>\n",
        "      <td>                                               0.8</td>\n",
        "    </tr>\n",
        "    <tr>\n",
        "      <th>2</th>\n",
        "      <td> 0.9</td>\n",
        "      <td><span style='background-color:#FFF000;' >0.01</...</td>\n",
        "    </tr>\n",
        "  </tbody>\n",
        "</table>"
       ],
       "output_type": "pyout",
       "prompt_number": 5,
       "text": [
        "<IPython.core.display.HTML at 0x2fdbbd0>"
       ]
      }
     ],
     "prompt_number": 5
    },
    {
     "cell_type": "markdown",
     "metadata": {},
     "source": [
      "## Dynamically modifying the `html` table DOM through `CSS`, `Javascript`/`jQuery`\n",
      "\n",
      "### Pure `CSS` selector / style\n",
      "\n",
      "The [`nth-child`](https://developer.mozilla.org/en-US/docs/Web/CSS/:nth-child) selector"
     ]
    },
    {
     "cell_type": "code",
     "collapsed": false,
     "input": [
      "plain_css_style = \"\"\"\n",
      "<style>\n",
      "    .my_df tbody tr:nth-child(3) { background-color: #FF0000; }\n",
      "</style>\n",
      "\"\"\"\n",
      "\n",
      "# specify class for html table from df \n",
      "HTML(plain_css_style + df.to_html(classes=\"my_df\"))"
     ],
     "language": "python",
     "metadata": {},
     "outputs": [
      {
       "html": [
        "\n",
        "<style>\n",
        "    .my_df tbody tr:nth-child(3) { background-color: #FF0000; }\n",
        "</style>\n",
        "<table border=\"1\" class=\"dataframe my_df\">\n",
        "  <thead>\n",
        "    <tr style=\"text-align: right;\">\n",
        "      <th></th>\n",
        "      <th>correlation</th>\n",
        "      <th>p_value</th>\n",
        "    </tr>\n",
        "  </thead>\n",
        "  <tbody>\n",
        "    <tr>\n",
        "      <th>0</th>\n",
        "      <td> 0.5</td>\n",
        "      <td> 0.10</td>\n",
        "    </tr>\n",
        "    <tr>\n",
        "      <th>1</th>\n",
        "      <td> 0.1</td>\n",
        "      <td> 0.80</td>\n",
        "    </tr>\n",
        "    <tr>\n",
        "      <th>2</th>\n",
        "      <td> 0.9</td>\n",
        "      <td> 0.01</td>\n",
        "    </tr>\n",
        "  </tbody>\n",
        "</table>"
       ],
       "output_type": "pyout",
       "prompt_number": 6,
       "text": [
        "<IPython.core.display.HTML at 0x2fdb5d0>"
       ]
      }
     ],
     "prompt_number": 6
    },
    {
     "cell_type": "markdown",
     "metadata": {},
     "source": [
      "### Layout"
     ]
    },
    {
     "cell_type": "code",
     "collapsed": false,
     "input": [
      "another_df = pd.DataFrame.from_dict({'category':['A', 'B', 'C']})"
     ],
     "language": "python",
     "metadata": {},
     "outputs": [],
     "prompt_number": 7
    },
    {
     "cell_type": "code",
     "collapsed": false,
     "input": [
      "css_style = \"\"\"\n",
      "<style type=\"text/css\">\n",
      "    #table{ display:table; }\n",
      "    #cell>div{ display:table-cell }\n",
      "    #left{ width:400px; }\n",
      "    #right{ width:400px; }\n",
      "\n",
      "    .highlighted_row{ background-color:#FFF000; font-weight:bold; }\n",
      "</style>\n",
      "\"\"\"\n",
      "\n",
      "html_table_placeholder = \"\"\"\n",
      "<div id=\"table\">\n",
      "  <div id=\"cell\">\n",
      "    <div id=\"left\"> %s </div>\n",
      "    <div id=\"right\"> %s </div>\n",
      "  </div>\n",
      "</div>\n",
      "\"\"\" % (df.to_html(classes=\"df\"), another_df.to_html(classes=\"another_df\"))\n",
      "\n",
      "js_hightlighting = \"\"\"\n",
      "        function enter_row() {\n",
      "            $(this).addClass(\"highlighted_row\");            \n",
      "            var rowIndex = $( \"#left tr\" ).index(this);\n",
      "            var rightRowElement = $(\"#right tr\").get(rowIndex);\n",
      "            $(rightRowElement).addClass(\"highlighted_row\");\n",
      "        }\n",
      "        function leave_row() {\n",
      "            $(this).removeClass(\"highlighted_row\");\n",
      "            var rowIndex = $( \"#left tr\" ).index( this );            \n",
      "            var rightRowElement = $(\"#right tr\").get(rowIndex);\n",
      "            $(rightRowElement).removeClass(\"highlighted_row\");\n",
      "        }\n",
      "        $(\"#left tr\").not(':first').hover(enter_row, leave_row);\n",
      "\"\"\"\n",
      "display(HTML(css_style + html_table_placeholder), Javascript(js_hightlighting))"
     ],
     "language": "python",
     "metadata": {},
     "outputs": [
      {
       "html": [
        "\n",
        "<style type=\"text/css\">\n",
        "    #table{ display:table; }\n",
        "    #cell>div{ display:table-cell }\n",
        "    #left{ width:400px; }\n",
        "    #right{ width:400px; }\n",
        "\n",
        "    .highlighted_row{ background-color:#FFF000; font-weight:bold; }\n",
        "</style>\n",
        "\n",
        "<div id=\"table\">\n",
        "  <div id=\"cell\">\n",
        "    <div id=\"left\"> <table border=\"1\" class=\"dataframe df\">\n",
        "  <thead>\n",
        "    <tr style=\"text-align: right;\">\n",
        "      <th></th>\n",
        "      <th>correlation</th>\n",
        "      <th>p_value</th>\n",
        "    </tr>\n",
        "  </thead>\n",
        "  <tbody>\n",
        "    <tr>\n",
        "      <th>0</th>\n",
        "      <td> 0.5</td>\n",
        "      <td> 0.10</td>\n",
        "    </tr>\n",
        "    <tr>\n",
        "      <th>1</th>\n",
        "      <td> 0.1</td>\n",
        "      <td> 0.80</td>\n",
        "    </tr>\n",
        "    <tr>\n",
        "      <th>2</th>\n",
        "      <td> 0.9</td>\n",
        "      <td> 0.01</td>\n",
        "    </tr>\n",
        "  </tbody>\n",
        "</table> </div>\n",
        "    <div id=\"right\"> <table border=\"1\" class=\"dataframe another_df\">\n",
        "  <thead>\n",
        "    <tr style=\"text-align: right;\">\n",
        "      <th></th>\n",
        "      <th>category</th>\n",
        "    </tr>\n",
        "  </thead>\n",
        "  <tbody>\n",
        "    <tr>\n",
        "      <th>0</th>\n",
        "      <td> A</td>\n",
        "    </tr>\n",
        "    <tr>\n",
        "      <th>1</th>\n",
        "      <td> B</td>\n",
        "    </tr>\n",
        "    <tr>\n",
        "      <th>2</th>\n",
        "      <td> C</td>\n",
        "    </tr>\n",
        "  </tbody>\n",
        "</table> </div>\n",
        "  </div>\n",
        "</div>\n"
       ],
       "output_type": "display_data",
       "text": [
        "<IPython.core.display.HTML at 0x30c2110>"
       ]
      },
      {
       "javascript": [
        "\n",
        "        function enter_row() {\n",
        "            $(this).addClass(\"highlighted_row\");            \n",
        "            var rowIndex = $( \"#left tr\" ).index(this);\n",
        "            var rightRowElement = $(\"#right tr\").get(rowIndex);\n",
        "            $(rightRowElement).addClass(\"highlighted_row\");\n",
        "        }\n",
        "        function leave_row() {\n",
        "            $(this).removeClass(\"highlighted_row\");\n",
        "            var rowIndex = $( \"#left tr\" ).index( this );            \n",
        "            var rightRowElement = $(\"#right tr\").get(rowIndex);\n",
        "            $(rightRowElement).removeClass(\"highlighted_row\");\n",
        "        }\n",
        "        $(\"#left tr\").not(':first').hover(enter_row, leave_row);\n"
       ],
       "output_type": "display_data",
       "text": [
        "<IPython.core.display.Javascript at 0x30c2590>"
       ]
      }
     ],
     "prompt_number": 16
    },
    {
     "cell_type": "markdown",
     "metadata": {},
     "source": [
      "### Interaction with `Javascript` and `jQuery` \n",
      "\n",
      "as shown [here](http://stackoverflow.com/questions/18096748/pandas-dataframes-to-html-highlighting-table-rows)"
     ]
    },
    {
     "cell_type": "markdown",
     "metadata": {},
     "source": [
      "The interaction between `HTML`, `Javascript` and `display` is demonstrated in that [ipython notebook example](http://nbviewer.ipython.org/url/github.com/ipython/ipython/raw/master/examples/notebooks/Progress%20Bars.ipynb). See also [http://api.jquery.com/filter/]()."
     ]
    },
    {
     "cell_type": "code",
     "collapsed": false,
     "input": [
      "javascript_highlighting = \"\"\"\n",
      "var rowIndexes = [1,2];\n",
      "$('.my_class tbody tr')\n",
      "    .filter(function(index) { return $.inArray(index, rowIndexes);})\n",
      "    .css('background-color', '#FF0000');\"\"\"\n",
      "\n",
      "\n",
      "display(HTML(df.to_html(classes=\"my_class\")), Javascript(javascript_highlighting))"
     ],
     "language": "python",
     "metadata": {},
     "outputs": [
      {
       "html": [
        "<table border=\"1\" class=\"dataframe my_class\">\n",
        "  <thead>\n",
        "    <tr style=\"text-align: right;\">\n",
        "      <th></th>\n",
        "      <th>correlation</th>\n",
        "      <th>p_value</th>\n",
        "    </tr>\n",
        "  </thead>\n",
        "  <tbody>\n",
        "    <tr>\n",
        "      <th>0</th>\n",
        "      <td> 0.5</td>\n",
        "      <td> 0.10</td>\n",
        "    </tr>\n",
        "    <tr>\n",
        "      <th>1</th>\n",
        "      <td> 0.1</td>\n",
        "      <td> 0.80</td>\n",
        "    </tr>\n",
        "    <tr>\n",
        "      <th>2</th>\n",
        "      <td> 0.9</td>\n",
        "      <td> 0.01</td>\n",
        "    </tr>\n",
        "  </tbody>\n",
        "</table>"
       ],
       "output_type": "display_data",
       "text": [
        "<IPython.core.display.HTML at 0x2fdb790>"
       ]
      },
      {
       "javascript": [
        "\n",
        "var rowIndexes = [1,2];\n",
        "$('.my_class tbody tr')\n",
        "    .filter(function(index) { return $.inArray(index, rowIndexes);})\n",
        "    .css('background-color', '#FF0000');"
       ],
       "output_type": "display_data",
       "text": [
        "<IPython.core.display.Javascript at 0x2fdb510>"
       ]
      }
     ],
     "prompt_number": 9
    },
    {
     "cell_type": "markdown",
     "metadata": {},
     "source": [
      "## Building a `JS` script from `python` inputs\n",
      "\n",
      "Extracting the logic from [`ipD3.py`](https://gist.github.com/z-m-k/4484816/raw/dc06cfdbccfc225834d069723b46cac1cd86f7c8/ipyD3.py) "
     ]
    },
    {
     "cell_type": "code",
     "collapsed": false,
     "input": [
      "from helpers import HtmlScript\n",
      "\n",
      "s = HtmlScript(div_id=\"FHGFHG\")\n",
      "s.update_vars(rowIndexes=[0,2])\n",
      "s.add_css(\".cell_highlight { background-color:#FFF000; font-weight:bold; }\")\n",
      "s.html = df.to_html(classes=\"my_new_df\")\n",
      "s.add_js(\"\"\"\n",
      "$('.my_new_df tbody tr')\n",
      "    .filter(function(index) { return $.inArray(index, rowIndexes) != -1 })\n",
      "    .addClass('cell_highlight');\n",
      "\"\"\")\n",
      "\n",
      "s.display()"
     ],
     "language": "python",
     "metadata": {},
     "outputs": [
      {
       "html": [
        "<style>\n",
        ".cell_highlight { background-color:#FFF000; font-weight:bold; }\n",
        "</style>\n",
        "<div id=\"FHGFHG\">\n",
        "<table border=\"1\" class=\"dataframe my_new_df\">\n",
        "  <thead>\n",
        "    <tr style=\"text-align: right;\">\n",
        "      <th></th>\n",
        "      <th>correlation</th>\n",
        "      <th>p_value</th>\n",
        "    </tr>\n",
        "  </thead>\n",
        "  <tbody>\n",
        "    <tr>\n",
        "      <th>0</th>\n",
        "      <td> 0.5</td>\n",
        "      <td> 0.10</td>\n",
        "    </tr>\n",
        "    <tr>\n",
        "      <th>1</th>\n",
        "      <td> 0.1</td>\n",
        "      <td> 0.80</td>\n",
        "    </tr>\n",
        "    <tr>\n",
        "      <th>2</th>\n",
        "      <td> 0.9</td>\n",
        "      <td> 0.01</td>\n",
        "    </tr>\n",
        "  </tbody>\n",
        "</table>\n",
        "</div>"
       ],
       "output_type": "display_data",
       "text": [
        "<IPython.core.display.HTML at 0x30c2550>"
       ]
      },
      {
       "javascript": [
        "var rowIndexes=[0, 2];\n",
        "\n",
        "\n",
        "$('.my_new_df tbody tr')\n",
        "    .filter(function(index) { return $.inArray(index, rowIndexes) != -1 })\n",
        "    .addClass('cell_highlight');\n"
       ],
       "output_type": "display_data",
       "text": [
        "<IPython.core.display.Javascript at 0x30c2510>"
       ]
      }
     ],
     "prompt_number": 12
    },
    {
     "cell_type": "markdown",
     "metadata": {},
     "source": [
      "## Applying the same recipe with [hello world](http://javadude.wordpress.com/2011/10/20/d3-js-getting-started/) in `d3.js`"
     ]
    },
    {
     "cell_type": "code",
     "collapsed": false,
     "input": [
      "s = HtmlScript(div_id=\"viz\", js_lib='https://raw.github.com/mbostock/d3/master/d3.min.js')\n",
      "s.update_vars(sizeParams={ \"width\":50, \"height\":50}, radius=20, cx=25, cy=25)\n",
      "s.add_js(\"\"\"var sampleSVG = d3.select(\"#viz\")\n",
      "        .append(\"svg:svg\")\n",
      "        .attr(sizeParams)\n",
      "sampleSVG.append(\"svg:circle\")\n",
      "        .style(\"stroke\", \"black\")\n",
      "        .style(\"fill\", \"white\")\n",
      "        .attr(\"r\", radius)\n",
      "        .attr(\"cx\", cx)\n",
      "        .attr(\"cy\", cy);\n",
      "\"\"\")\n",
      "\n",
      "s.display()"
     ],
     "language": "python",
     "metadata": {},
     "outputs": [
      {
       "html": [
        "<style>\n",
        "</style>\n",
        "<div id=\"viz\">\n",
        "\n",
        "</div>"
       ],
       "output_type": "display_data",
       "text": [
        "<IPython.core.display.HTML at 0x30c2590>"
       ]
      },
      {
       "javascript": [
        "$.getScript(\"https://raw.github.com/mbostock/d3/master/d3.min.js\", function () {\n",
        "var cy=25;\n",
        "var cx=25;\n",
        "var radius=20;\n",
        "var sizeParams={'width': 50, 'height': 50};\n",
        "\n",
        "var sampleSVG = d3.select(\"#viz\")\n",
        "        .append(\"svg:svg\")\n",
        "        .attr(sizeParams)\n",
        "sampleSVG.append(\"svg:circle\")\n",
        "        .style(\"stroke\", \"black\")\n",
        "        .style(\"fill\", \"white\")\n",
        "        .attr(\"r\", radius)\n",
        "        .attr(\"cx\", cx)\n",
        "        .attr(\"cy\", cy);\n",
        "});\n"
       ],
       "output_type": "display_data",
       "text": [
        "<IPython.core.display.Javascript at 0x30c22d0>"
       ]
      }
     ],
     "prompt_number": 15
    }
   ],
   "metadata": {}
  }
 ]
}