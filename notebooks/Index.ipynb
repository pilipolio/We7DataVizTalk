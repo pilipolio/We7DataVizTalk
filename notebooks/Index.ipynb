{
 "metadata": {
  "name": "Index"
 },
 "nbformat": 3,
 "nbformat_minor": 0,
 "worksheets": [
  {
   "cells": [
    {
     "cell_type": "markdown",
     "metadata": {},
     "source": [
      "# Handy tools for data analysis and visualisation\n",
      "\n",
      " - _Data analysis_ = converting data into knowledge, insight and understanding\n",
      "\n",
      " - Requirement of good data analysis :\n",
      " \n",
      "    1. reproducibility\n",
      "    2. automation\n",
      "    3. communication\n",
      "\n",
      "## A quick overview of the [`IPython Notebook`](http://ipython.org/_static/sloangrant/sloan-grant.html)\n",
      "\n",
      " -  `IPython` = interactive shell for python, `IPython Notebook` = in the browser\n",
      "\n",
      " -  \"[...] from initial exploration to publication and teaching\"\n",
      "\n",
      " -  Reproducible and easy to share analysis\n",
      "\n",
      "## Libraries for scientific plotting\n",
      "\n",
      "\n",
      " - http://matplotlib.org for `Python`\n",
      "   - \"object oriented interface\"\n",
      "   - `+` set of functions familiar to MATLAB users \n",
      "   - several backends/outputs (`pdf/png` but also `wxPython`, `gtk`, `qt4`, ...)\n",
      "\n",
      " - http://docs.ggplot2.org for `R`\n",
      "   - Domain specific language for visualisation\n",
      "   - Implementation of the [`Grammar of Graphics`](http://www.springer.com/statistics/computational+statistics/book/978-0-387-24544-7)\n",
      "   - Beautiful default plots, makes it easy to perform common tricks and add statistical analyses.  \n",
      "   - Hands on example by [Hadley Wickham](http://had.co.nz/) in his talk about [data analysis engineering](http://www.r-statistics.com/2011/06/engineering-data-analysis-with-r-and-ggplot2-a-google-tech-talk-given-by-hadley-wickham/)\n",
      "\n",
      "## Adding interactivity and animation\n",
      "\n",
      " - Provide extra insights and highlight key features $\\Rightarrow$ from exploratory to explanatory analysis\n",
      "\n",
      " - Can be done by wrapping a plot into a small desktop application ([PyQt](https://wiki.python.org/moin/PyQt), [R + Tk](http://stat.ethz.ch/R-manual/R-devel/library/tcltk/html/TkWidgets.html))\n",
      "\n",
      "But ideally happening in the browser...\n",
      "\n",
      " - Using [`W3C`](http://www.w3.org/standards/) web standards `HTML`, `SVG`, `DOM`, `CSS`, `Javascript`, ... :\n",
      "\n",
      "   - [`Document Object Model`](https://developer.mozilla.org/en/docs/DOM) : _interface_ providing a structural representation of a web page to be modified by using a scripting language, mostly [`Javascript`](https://developer.mozilla.org/en-US/docs/Web/Javascript).\n",
      "   - [`Scalable Vector Graphics`](https://developer.mozilla.org/en-US/docs/Web/SVG) : `XML` markup language for describing two-dimensional vector graphics.\n",
      "   - [`Cascading Style Sheets`](https://developer.mozilla.org/en-US/docs/Web/CSS) : language describing the presentation of a document written in (`HTML`, ..., `SVG`).\n",
      "   - [`jQuery`](http://jquery.com/) : multi-browser `Javascript` library to facilitate `DOM` elements selection and modification and `AJAX` requests.\n",
      "\n",
      " - [D3.JS](http://d3js.org/) which stands for `Data-Driven Documents` :\n",
      "  \n",
      "    - Open-source `Javascript` library based on the standards above.\n",
      "    - Efficient manipulation of documents based on (supposatedly) large data.\n",
      "    - Not multi-purpose but many other libraries built on top of it ([`Vega`](http://trifacta.github.io/vega/) for `JSON` based documents, [`rickshaw`](http://code.shutterstock.com/rickshaw/) for time-series plotting, [`dc.js`](http://nickqizhu.github.io/dc.js/) to integrate [`crossfilter`](http://square.github.io/crossfilter) with `d3.js`, geared towards large multivariate datasets, ...) \n",
      "\n"
     ]
    }
   ],
   "metadata": {}
  }
 ]
}